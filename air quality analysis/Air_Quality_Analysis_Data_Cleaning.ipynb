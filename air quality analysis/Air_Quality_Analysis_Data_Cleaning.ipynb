{
  "nbformat": 4,
  "nbformat_minor": 0,
  "metadata": {
    "colab": {
      "provenance": []
    },
    "kernelspec": {
      "name": "python3",
      "display_name": "Python 3"
    }
  },
  "cells": [
    {
      "cell_type": "markdown",
      "metadata": {
        "id": "z75TncAdaPi8"
      },
      "source": [
        "# Lesson 40: Air Quality Analysis - Data Cleaning"
      ]
    },
    {
      "cell_type": "markdown",
      "metadata": {
        "id": "Wrq9E4BMmOHe"
      },
      "source": [
        "### Teacher-Student Activities\n",
        "\n",
        "In this class, we will clean the DataFrame by replacing commas with periods (or dots) and by replacing the `-200` garbage value with the median value of the respective columns.\n",
        "\n",
        "The data cleaning exercises depend on the kind of dataset you get. However, the functions applied or the operations followed to clean a DataFrame more or less remain the same.\n",
        "\n",
        "Let's begin the class by running the code which we have already covered in the previous classes and continue the class from the **Activity 1: Replacing Commas** section."
      ]
    },
    {
      "cell_type": "markdown",
      "metadata": {
        "id": "xciPkfWVnJcg"
      },
      "source": [
        "---"
      ]
    },
    {
      "cell_type": "markdown",
      "metadata": {
        "id": "K6mV_YtknKNB"
      },
      "source": [
        "### Recap\n",
        "\n",
        "Run the code cell below to load the dataset and apply the operations on the DataFrame that were covered in the previous classes."
      ]
    },
    {
      "cell_type": "code",
      "metadata": {
        "id": "wNOjV6SAaMNK"
      },
      "source": [
        "# Run the code cell.\n",
        "import numpy as np\n",
        "import pandas as pd\n",
        "import matplotlib.pyplot as plt\n",
        "import seaborn as sns\n",
        "\n",
        "# Loading the dataset.\n",
        "csv_file = 'https://student-datasets-bucket.s3.ap-south-1.amazonaws.com/whitehat-ds-datasets/air-quality/AirQualityUCI.csv'\n",
        "df = pd.read_csv(csv_file, sep=';')\n",
        "\n",
        "# Dropping the 'Unnamed: 15' & 'Unnamed: 16' columns.\n",
        "df = df.drop(columns=['Unnamed: 15', 'Unnamed: 16'], axis=1)\n",
        "\n",
        "# Dropping the null values.\n",
        "df = df.dropna()\n",
        "\n",
        "# Creating a Pandas series containing 'datetime' objects.\n",
        "dt_series = pd.Series(data = [item.split(\"/\")[2] + \"-\" + item.split(\"/\")[1] + \"-\" + item.split(\"/\")[0] for item in df['Date']], index=df.index) + ' ' + pd.Series(data=[str(item).replace(\".\", \":\") for item in df['Time']], index=df.index)\n",
        "dt_series = pd.to_datetime(dt_series)\n",
        "\n",
        "# Remove the Date & Time columns from the DataFrame and insert the 'dt_series' in it.\n",
        "df = df.drop(columns=['Date', 'Time'], axis=1)\n",
        "df.insert(loc=0, column='DateTime', value=dt_series)\n",
        "\n",
        "# Get the Pandas series containing the year values as integers.\n",
        "year_series = dt_series.dt.year\n",
        "\n",
        "# Get the Pandas series containing the month values as integers.\n",
        "month_series = dt_series.dt.month\n",
        "\n",
        "# Get the Pandas series containing the day values as integers.\n",
        "day_series = dt_series.dt.day\n",
        "\n",
        "# Get the Pandas series containing the days of a week, i.e., Monday, Tuesday, Wednesday etc.\n",
        "day_name_series = dt_series.dt.day_name()\n",
        "\n",
        "# Add the 'Year', 'Month', 'Day' and 'Day Name' columns to the DataFrame.\n",
        "df['Year'] = year_series\n",
        "df['Month'] = month_series\n",
        "df['Day'] = day_series\n",
        "df['Day Name'] = day_name_series\n",
        "\n",
        "# Sort the DataFrame by the 'DateTime' values in the ascending order. Also, display the first 10 rows of the DataFrame.\n",
        "df = df.sort_values(by='DateTime')"
      ],
      "execution_count": null,
      "outputs": []
    },
    {
      "cell_type": "markdown",
      "metadata": {
        "id": "1Wce1jJAs_23"
      },
      "source": [
        "---"
      ]
    },
    {
      "cell_type": "markdown",
      "metadata": {
        "id": "LwuGk4habNWS"
      },
      "source": [
        "#### Activity 1: Replacing Commas^\n",
        "\n",
        "The  values in the `CO(GT), C6H6(GT), T,\tRH` and\t`AH` columns contain the commas in them. Let's replace the commas with periods (or dots)."
      ]
    },
    {
      "cell_type": "code",
      "metadata": {
        "id": "uu1Qollia62D",
        "colab": {
          "base_uri": "https://localhost:8080/",
          "height": 394
        },
        "outputId": "91e48520-3835-4eea-c3ec-b283b639c747"
      },
      "source": [
        "# S1.1: Display the first five rows of the DataFrame.\n",
        "df.head()"
      ],
      "execution_count": null,
      "outputs": [
        {
          "output_type": "execute_result",
          "data": {
            "text/html": [
              "<div>\n",
              "<style scoped>\n",
              "    .dataframe tbody tr th:only-of-type {\n",
              "        vertical-align: middle;\n",
              "    }\n",
              "\n",
              "    .dataframe tbody tr th {\n",
              "        vertical-align: top;\n",
              "    }\n",
              "\n",
              "    .dataframe thead th {\n",
              "        text-align: right;\n",
              "    }\n",
              "</style>\n",
              "<table border=\"1\" class=\"dataframe\">\n",
              "  <thead>\n",
              "    <tr style=\"text-align: right;\">\n",
              "      <th></th>\n",
              "      <th>DateTime</th>\n",
              "      <th>CO(GT)</th>\n",
              "      <th>PT08.S1(CO)</th>\n",
              "      <th>NMHC(GT)</th>\n",
              "      <th>C6H6(GT)</th>\n",
              "      <th>PT08.S2(NMHC)</th>\n",
              "      <th>NOx(GT)</th>\n",
              "      <th>PT08.S3(NOx)</th>\n",
              "      <th>NO2(GT)</th>\n",
              "      <th>PT08.S4(NO2)</th>\n",
              "      <th>PT08.S5(O3)</th>\n",
              "      <th>T</th>\n",
              "      <th>RH</th>\n",
              "      <th>AH</th>\n",
              "      <th>Year</th>\n",
              "      <th>Month</th>\n",
              "      <th>Day</th>\n",
              "      <th>Day Name</th>\n",
              "    </tr>\n",
              "  </thead>\n",
              "  <tbody>\n",
              "    <tr>\n",
              "      <th>0</th>\n",
              "      <td>2004-03-10 18:00:00</td>\n",
              "      <td>2,6</td>\n",
              "      <td>1360.0</td>\n",
              "      <td>150.0</td>\n",
              "      <td>11,9</td>\n",
              "      <td>1046.0</td>\n",
              "      <td>166.0</td>\n",
              "      <td>1056.0</td>\n",
              "      <td>113.0</td>\n",
              "      <td>1692.0</td>\n",
              "      <td>1268.0</td>\n",
              "      <td>13,6</td>\n",
              "      <td>48,9</td>\n",
              "      <td>0,7578</td>\n",
              "      <td>2004</td>\n",
              "      <td>3</td>\n",
              "      <td>10</td>\n",
              "      <td>Wednesday</td>\n",
              "    </tr>\n",
              "    <tr>\n",
              "      <th>1</th>\n",
              "      <td>2004-03-10 19:00:00</td>\n",
              "      <td>2</td>\n",
              "      <td>1292.0</td>\n",
              "      <td>112.0</td>\n",
              "      <td>9,4</td>\n",
              "      <td>955.0</td>\n",
              "      <td>103.0</td>\n",
              "      <td>1174.0</td>\n",
              "      <td>92.0</td>\n",
              "      <td>1559.0</td>\n",
              "      <td>972.0</td>\n",
              "      <td>13,3</td>\n",
              "      <td>47,7</td>\n",
              "      <td>0,7255</td>\n",
              "      <td>2004</td>\n",
              "      <td>3</td>\n",
              "      <td>10</td>\n",
              "      <td>Wednesday</td>\n",
              "    </tr>\n",
              "    <tr>\n",
              "      <th>2</th>\n",
              "      <td>2004-03-10 20:00:00</td>\n",
              "      <td>2,2</td>\n",
              "      <td>1402.0</td>\n",
              "      <td>88.0</td>\n",
              "      <td>9,0</td>\n",
              "      <td>939.0</td>\n",
              "      <td>131.0</td>\n",
              "      <td>1140.0</td>\n",
              "      <td>114.0</td>\n",
              "      <td>1555.0</td>\n",
              "      <td>1074.0</td>\n",
              "      <td>11,9</td>\n",
              "      <td>54,0</td>\n",
              "      <td>0,7502</td>\n",
              "      <td>2004</td>\n",
              "      <td>3</td>\n",
              "      <td>10</td>\n",
              "      <td>Wednesday</td>\n",
              "    </tr>\n",
              "    <tr>\n",
              "      <th>3</th>\n",
              "      <td>2004-03-10 21:00:00</td>\n",
              "      <td>2,2</td>\n",
              "      <td>1376.0</td>\n",
              "      <td>80.0</td>\n",
              "      <td>9,2</td>\n",
              "      <td>948.0</td>\n",
              "      <td>172.0</td>\n",
              "      <td>1092.0</td>\n",
              "      <td>122.0</td>\n",
              "      <td>1584.0</td>\n",
              "      <td>1203.0</td>\n",
              "      <td>11,0</td>\n",
              "      <td>60,0</td>\n",
              "      <td>0,7867</td>\n",
              "      <td>2004</td>\n",
              "      <td>3</td>\n",
              "      <td>10</td>\n",
              "      <td>Wednesday</td>\n",
              "    </tr>\n",
              "    <tr>\n",
              "      <th>4</th>\n",
              "      <td>2004-03-10 22:00:00</td>\n",
              "      <td>1,6</td>\n",
              "      <td>1272.0</td>\n",
              "      <td>51.0</td>\n",
              "      <td>6,5</td>\n",
              "      <td>836.0</td>\n",
              "      <td>131.0</td>\n",
              "      <td>1205.0</td>\n",
              "      <td>116.0</td>\n",
              "      <td>1490.0</td>\n",
              "      <td>1110.0</td>\n",
              "      <td>11,2</td>\n",
              "      <td>59,6</td>\n",
              "      <td>0,7888</td>\n",
              "      <td>2004</td>\n",
              "      <td>3</td>\n",
              "      <td>10</td>\n",
              "      <td>Wednesday</td>\n",
              "    </tr>\n",
              "  </tbody>\n",
              "</table>\n",
              "</div>"
            ],
            "text/plain": [
              "             DateTime CO(GT)  PT08.S1(CO)  ...  Month Day   Day Name\n",
              "0 2004-03-10 18:00:00    2,6       1360.0  ...      3  10  Wednesday\n",
              "1 2004-03-10 19:00:00      2       1292.0  ...      3  10  Wednesday\n",
              "2 2004-03-10 20:00:00    2,2       1402.0  ...      3  10  Wednesday\n",
              "3 2004-03-10 21:00:00    2,2       1376.0  ...      3  10  Wednesday\n",
              "4 2004-03-10 22:00:00    1,6       1272.0  ...      3  10  Wednesday\n",
              "\n",
              "[5 rows x 18 columns]"
            ]
          },
          "metadata": {},
          "execution_count": 8
        }
      ]
    },
    {
      "cell_type": "markdown",
      "metadata": {
        "id": "3twFa_GCoHrS"
      },
      "source": [
        "Create a function which takes a Pandas series containing comma separated decimal values as an input and returns a new Pandas series containing period separated decimal values as an output."
      ]
    },
    {
      "cell_type": "code",
      "metadata": {
        "id": "qj1ZwNpKbN4g"
      },
      "source": [
        "# S1.2: Create a function to replace the commas with periods in a Pandas series.\n",
        "def replace_value(series):\n",
        "  new_series = pd.Series(data=[float(str(item).replace(',', '.')) for item in series], index = df.index)\n",
        "  return new_series\n",
        ""
      ],
      "execution_count": null,
      "outputs": []
    },
    {
      "cell_type": "markdown",
      "metadata": {
        "id": "lTQTLZHFozvM"
      },
      "source": [
        "In the above code,\n",
        "\n",
        "- we iterated through each item of a `series`,\n",
        "\n",
        "- converted each item to a string value using the `str()` function,\n",
        "\n",
        "- replaced the comma with the period using the `replace()` function\n",
        "\n",
        "- converted the replaced value to a floating-point number using the `float()` function,\n",
        "\n",
        "- added each item to a Python list, and\n",
        "\n",
        "- converted the list to a Pandas series using the `pd.Series()` function.\n",
        "\n",
        "We have ensured that the indices of the new Pandas series is same as the indices of the DataFrame by passing `index = df.index` parameter to the `pd.Series()` function where `df` is the DataFrame.\n",
        "\n",
        "Now, let's test the `comma_to_period()` function by correcting the values of `CO(GT)` column but storing the output in a new variable so that the original values of the column are unaffected before we have verified the correctness of the function."
      ]
    },
    {
      "cell_type": "code",
      "metadata": {
        "id": "crtSeoOcqQjM",
        "colab": {
          "base_uri": "https://localhost:8080/"
        },
        "outputId": "57755bb5-9acb-4dac-83ac-f15d75f67795"
      },
      "source": [
        "# S1.3: Test the 'comma_to_period()' function by correcting the values of 'CO(GT)' column but storing the output in a new variable.\n",
        "new_series = replace_value(df['CO(GT)'])\n",
        "new_series"
      ],
      "execution_count": null,
      "outputs": [
        {
          "output_type": "execute_result",
          "data": {
            "text/plain": [
              "0       2.6\n",
              "1       2.0\n",
              "2       2.2\n",
              "3       2.2\n",
              "4       1.6\n",
              "       ... \n",
              "9352    3.1\n",
              "9353    2.4\n",
              "9354    2.4\n",
              "9355    2.1\n",
              "9356    2.2\n",
              "Length: 9357, dtype: float64"
            ]
          },
          "metadata": {},
          "execution_count": 10
        }
      ]
    },
    {
      "cell_type": "markdown",
      "metadata": {
        "id": "w4WfW0gDqduB"
      },
      "source": [
        "As you can see, all the values of the `CO(GT)` column are now proper float-point numbers. Let's apply the `comma_to_period()` function on the `'CO(GT), C6H6(GT), T, RH` and `AH` columns.\n"
      ]
    },
    {
      "cell_type": "code",
      "metadata": {
        "id": "3uNxSnOsbVpp",
        "colab": {
          "base_uri": "https://localhost:8080/",
          "height": 779
        },
        "outputId": "3fb5c348-dd68-444d-f46d-744d5751c40a"
      },
      "source": [
        "# S1.4: Apply the 'comma_to_period()' function on the ''CO(GT)', 'C6H6(GT)', 'T', 'RH' and 'AH' columns.\n",
        "colums_names = ['CO(GT)', 'C6H6(GT)', 'T', 'RH' , 'AH']\n",
        "for i in colums_names:\n",
        "  df[i] = replace_value(df[i])\n",
        "df"
      ],
      "execution_count": null,
      "outputs": [
        {
          "output_type": "execute_result",
          "data": {
            "text/html": [
              "<div>\n",
              "<style scoped>\n",
              "    .dataframe tbody tr th:only-of-type {\n",
              "        vertical-align: middle;\n",
              "    }\n",
              "\n",
              "    .dataframe tbody tr th {\n",
              "        vertical-align: top;\n",
              "    }\n",
              "\n",
              "    .dataframe thead th {\n",
              "        text-align: right;\n",
              "    }\n",
              "</style>\n",
              "<table border=\"1\" class=\"dataframe\">\n",
              "  <thead>\n",
              "    <tr style=\"text-align: right;\">\n",
              "      <th></th>\n",
              "      <th>DateTime</th>\n",
              "      <th>CO(GT)</th>\n",
              "      <th>PT08.S1(CO)</th>\n",
              "      <th>NMHC(GT)</th>\n",
              "      <th>C6H6(GT)</th>\n",
              "      <th>PT08.S2(NMHC)</th>\n",
              "      <th>NOx(GT)</th>\n",
              "      <th>PT08.S3(NOx)</th>\n",
              "      <th>NO2(GT)</th>\n",
              "      <th>PT08.S4(NO2)</th>\n",
              "      <th>PT08.S5(O3)</th>\n",
              "      <th>T</th>\n",
              "      <th>RH</th>\n",
              "      <th>AH</th>\n",
              "      <th>Year</th>\n",
              "      <th>Month</th>\n",
              "      <th>Day</th>\n",
              "      <th>Day Name</th>\n",
              "    </tr>\n",
              "  </thead>\n",
              "  <tbody>\n",
              "    <tr>\n",
              "      <th>0</th>\n",
              "      <td>2004-03-10 18:00:00</td>\n",
              "      <td>2.6</td>\n",
              "      <td>1360.0</td>\n",
              "      <td>150.0</td>\n",
              "      <td>11.9</td>\n",
              "      <td>1046.0</td>\n",
              "      <td>166.0</td>\n",
              "      <td>1056.0</td>\n",
              "      <td>113.0</td>\n",
              "      <td>1692.0</td>\n",
              "      <td>1268.0</td>\n",
              "      <td>13.6</td>\n",
              "      <td>48.9</td>\n",
              "      <td>0.7578</td>\n",
              "      <td>2004</td>\n",
              "      <td>3</td>\n",
              "      <td>10</td>\n",
              "      <td>Wednesday</td>\n",
              "    </tr>\n",
              "    <tr>\n",
              "      <th>1</th>\n",
              "      <td>2004-03-10 19:00:00</td>\n",
              "      <td>2.0</td>\n",
              "      <td>1292.0</td>\n",
              "      <td>112.0</td>\n",
              "      <td>9.4</td>\n",
              "      <td>955.0</td>\n",
              "      <td>103.0</td>\n",
              "      <td>1174.0</td>\n",
              "      <td>92.0</td>\n",
              "      <td>1559.0</td>\n",
              "      <td>972.0</td>\n",
              "      <td>13.3</td>\n",
              "      <td>47.7</td>\n",
              "      <td>0.7255</td>\n",
              "      <td>2004</td>\n",
              "      <td>3</td>\n",
              "      <td>10</td>\n",
              "      <td>Wednesday</td>\n",
              "    </tr>\n",
              "    <tr>\n",
              "      <th>2</th>\n",
              "      <td>2004-03-10 20:00:00</td>\n",
              "      <td>2.2</td>\n",
              "      <td>1402.0</td>\n",
              "      <td>88.0</td>\n",
              "      <td>9.0</td>\n",
              "      <td>939.0</td>\n",
              "      <td>131.0</td>\n",
              "      <td>1140.0</td>\n",
              "      <td>114.0</td>\n",
              "      <td>1555.0</td>\n",
              "      <td>1074.0</td>\n",
              "      <td>11.9</td>\n",
              "      <td>54.0</td>\n",
              "      <td>0.7502</td>\n",
              "      <td>2004</td>\n",
              "      <td>3</td>\n",
              "      <td>10</td>\n",
              "      <td>Wednesday</td>\n",
              "    </tr>\n",
              "    <tr>\n",
              "      <th>3</th>\n",
              "      <td>2004-03-10 21:00:00</td>\n",
              "      <td>2.2</td>\n",
              "      <td>1376.0</td>\n",
              "      <td>80.0</td>\n",
              "      <td>9.2</td>\n",
              "      <td>948.0</td>\n",
              "      <td>172.0</td>\n",
              "      <td>1092.0</td>\n",
              "      <td>122.0</td>\n",
              "      <td>1584.0</td>\n",
              "      <td>1203.0</td>\n",
              "      <td>11.0</td>\n",
              "      <td>60.0</td>\n",
              "      <td>0.7867</td>\n",
              "      <td>2004</td>\n",
              "      <td>3</td>\n",
              "      <td>10</td>\n",
              "      <td>Wednesday</td>\n",
              "    </tr>\n",
              "    <tr>\n",
              "      <th>4</th>\n",
              "      <td>2004-03-10 22:00:00</td>\n",
              "      <td>1.6</td>\n",
              "      <td>1272.0</td>\n",
              "      <td>51.0</td>\n",
              "      <td>6.5</td>\n",
              "      <td>836.0</td>\n",
              "      <td>131.0</td>\n",
              "      <td>1205.0</td>\n",
              "      <td>116.0</td>\n",
              "      <td>1490.0</td>\n",
              "      <td>1110.0</td>\n",
              "      <td>11.2</td>\n",
              "      <td>59.6</td>\n",
              "      <td>0.7888</td>\n",
              "      <td>2004</td>\n",
              "      <td>3</td>\n",
              "      <td>10</td>\n",
              "      <td>Wednesday</td>\n",
              "    </tr>\n",
              "    <tr>\n",
              "      <th>...</th>\n",
              "      <td>...</td>\n",
              "      <td>...</td>\n",
              "      <td>...</td>\n",
              "      <td>...</td>\n",
              "      <td>...</td>\n",
              "      <td>...</td>\n",
              "      <td>...</td>\n",
              "      <td>...</td>\n",
              "      <td>...</td>\n",
              "      <td>...</td>\n",
              "      <td>...</td>\n",
              "      <td>...</td>\n",
              "      <td>...</td>\n",
              "      <td>...</td>\n",
              "      <td>...</td>\n",
              "      <td>...</td>\n",
              "      <td>...</td>\n",
              "      <td>...</td>\n",
              "    </tr>\n",
              "    <tr>\n",
              "      <th>9352</th>\n",
              "      <td>2005-04-04 10:00:00</td>\n",
              "      <td>3.1</td>\n",
              "      <td>1314.0</td>\n",
              "      <td>-200.0</td>\n",
              "      <td>13.5</td>\n",
              "      <td>1101.0</td>\n",
              "      <td>472.0</td>\n",
              "      <td>539.0</td>\n",
              "      <td>190.0</td>\n",
              "      <td>1374.0</td>\n",
              "      <td>1729.0</td>\n",
              "      <td>21.9</td>\n",
              "      <td>29.3</td>\n",
              "      <td>0.7568</td>\n",
              "      <td>2005</td>\n",
              "      <td>4</td>\n",
              "      <td>4</td>\n",
              "      <td>Monday</td>\n",
              "    </tr>\n",
              "    <tr>\n",
              "      <th>9353</th>\n",
              "      <td>2005-04-04 11:00:00</td>\n",
              "      <td>2.4</td>\n",
              "      <td>1163.0</td>\n",
              "      <td>-200.0</td>\n",
              "      <td>11.4</td>\n",
              "      <td>1027.0</td>\n",
              "      <td>353.0</td>\n",
              "      <td>604.0</td>\n",
              "      <td>179.0</td>\n",
              "      <td>1264.0</td>\n",
              "      <td>1269.0</td>\n",
              "      <td>24.3</td>\n",
              "      <td>23.7</td>\n",
              "      <td>0.7119</td>\n",
              "      <td>2005</td>\n",
              "      <td>4</td>\n",
              "      <td>4</td>\n",
              "      <td>Monday</td>\n",
              "    </tr>\n",
              "    <tr>\n",
              "      <th>9354</th>\n",
              "      <td>2005-04-04 12:00:00</td>\n",
              "      <td>2.4</td>\n",
              "      <td>1142.0</td>\n",
              "      <td>-200.0</td>\n",
              "      <td>12.4</td>\n",
              "      <td>1063.0</td>\n",
              "      <td>293.0</td>\n",
              "      <td>603.0</td>\n",
              "      <td>175.0</td>\n",
              "      <td>1241.0</td>\n",
              "      <td>1092.0</td>\n",
              "      <td>26.9</td>\n",
              "      <td>18.3</td>\n",
              "      <td>0.6406</td>\n",
              "      <td>2005</td>\n",
              "      <td>4</td>\n",
              "      <td>4</td>\n",
              "      <td>Monday</td>\n",
              "    </tr>\n",
              "    <tr>\n",
              "      <th>9355</th>\n",
              "      <td>2005-04-04 13:00:00</td>\n",
              "      <td>2.1</td>\n",
              "      <td>1003.0</td>\n",
              "      <td>-200.0</td>\n",
              "      <td>9.5</td>\n",
              "      <td>961.0</td>\n",
              "      <td>235.0</td>\n",
              "      <td>702.0</td>\n",
              "      <td>156.0</td>\n",
              "      <td>1041.0</td>\n",
              "      <td>770.0</td>\n",
              "      <td>28.3</td>\n",
              "      <td>13.5</td>\n",
              "      <td>0.5139</td>\n",
              "      <td>2005</td>\n",
              "      <td>4</td>\n",
              "      <td>4</td>\n",
              "      <td>Monday</td>\n",
              "    </tr>\n",
              "    <tr>\n",
              "      <th>9356</th>\n",
              "      <td>2005-04-04 14:00:00</td>\n",
              "      <td>2.2</td>\n",
              "      <td>1071.0</td>\n",
              "      <td>-200.0</td>\n",
              "      <td>11.9</td>\n",
              "      <td>1047.0</td>\n",
              "      <td>265.0</td>\n",
              "      <td>654.0</td>\n",
              "      <td>168.0</td>\n",
              "      <td>1129.0</td>\n",
              "      <td>816.0</td>\n",
              "      <td>28.5</td>\n",
              "      <td>13.1</td>\n",
              "      <td>0.5028</td>\n",
              "      <td>2005</td>\n",
              "      <td>4</td>\n",
              "      <td>4</td>\n",
              "      <td>Monday</td>\n",
              "    </tr>\n",
              "  </tbody>\n",
              "</table>\n",
              "<p>9357 rows × 18 columns</p>\n",
              "</div>"
            ],
            "text/plain": [
              "                DateTime  CO(GT)  PT08.S1(CO)  ...  Month  Day   Day Name\n",
              "0    2004-03-10 18:00:00     2.6       1360.0  ...      3   10  Wednesday\n",
              "1    2004-03-10 19:00:00     2.0       1292.0  ...      3   10  Wednesday\n",
              "2    2004-03-10 20:00:00     2.2       1402.0  ...      3   10  Wednesday\n",
              "3    2004-03-10 21:00:00     2.2       1376.0  ...      3   10  Wednesday\n",
              "4    2004-03-10 22:00:00     1.6       1272.0  ...      3   10  Wednesday\n",
              "...                  ...     ...          ...  ...    ...  ...        ...\n",
              "9352 2005-04-04 10:00:00     3.1       1314.0  ...      4    4     Monday\n",
              "9353 2005-04-04 11:00:00     2.4       1163.0  ...      4    4     Monday\n",
              "9354 2005-04-04 12:00:00     2.4       1142.0  ...      4    4     Monday\n",
              "9355 2005-04-04 13:00:00     2.1       1003.0  ...      4    4     Monday\n",
              "9356 2005-04-04 14:00:00     2.2       1071.0  ...      4    4     Monday\n",
              "\n",
              "[9357 rows x 18 columns]"
            ]
          },
          "metadata": {},
          "execution_count": 11
        }
      ]
    },
    {
      "cell_type": "markdown",
      "metadata": {
        "id": "Ul5_3oF7rXve"
      },
      "source": [
        "In the above code:\n",
        "\n",
        "- We created a list of all the columns whose values we need to correct.\n",
        "\n",
        "- Itereated through each value of the list.\n",
        "\n",
        "- Applied the `comma_to_period()` function on each column of the `df` DataFrame.\n",
        "\n",
        "- Replaced each column with their corresponding new series to correct the required values.\n",
        "\n",
        "Let's print the first five rows of the DataFrame to see the effect of the `comma_to_period()` function."
      ]
    },
    {
      "cell_type": "code",
      "metadata": {
        "id": "hJUJVXZ2bZFq",
        "colab": {
          "base_uri": "https://localhost:8080/"
        },
        "outputId": "8ca5e400-ae49-4fb6-bb5a-70bd6359695c"
      },
      "source": [
        "# S1.5: Display the first five rows of the DataFrame to see the effect of the 'comma_to_period()' function.\n",
        "df.info()"
      ],
      "execution_count": null,
      "outputs": [
        {
          "output_type": "stream",
          "name": "stdout",
          "text": [
            "<class 'pandas.core.frame.DataFrame'>\n",
            "Int64Index: 9357 entries, 0 to 9356\n",
            "Data columns (total 18 columns):\n",
            " #   Column         Non-Null Count  Dtype         \n",
            "---  ------         --------------  -----         \n",
            " 0   DateTime       9357 non-null   datetime64[ns]\n",
            " 1   CO(GT)         9357 non-null   float64       \n",
            " 2   PT08.S1(CO)    9357 non-null   float64       \n",
            " 3   NMHC(GT)       9357 non-null   float64       \n",
            " 4   C6H6(GT)       9357 non-null   float64       \n",
            " 5   PT08.S2(NMHC)  9357 non-null   float64       \n",
            " 6   NOx(GT)        9357 non-null   float64       \n",
            " 7   PT08.S3(NOx)   9357 non-null   float64       \n",
            " 8   NO2(GT)        9357 non-null   float64       \n",
            " 9   PT08.S4(NO2)   9357 non-null   float64       \n",
            " 10  PT08.S5(O3)    9357 non-null   float64       \n",
            " 11  T              9357 non-null   float64       \n",
            " 12  RH             9357 non-null   float64       \n",
            " 13  AH             9357 non-null   float64       \n",
            " 14  Year           9357 non-null   int64         \n",
            " 15  Month          9357 non-null   int64         \n",
            " 16  Day            9357 non-null   int64         \n",
            " 17  Day Name       9357 non-null   object        \n",
            "dtypes: datetime64[ns](1), float64(13), int64(3), object(1)\n",
            "memory usage: 1.4+ MB\n"
          ]
        }
      ]
    },
    {
      "cell_type": "markdown",
      "metadata": {
        "id": "M-oQpK13sg6F"
      },
      "source": [
        "Let's also print the information on the `df` DataFrame. Except for the first column and the last column, all other columns must have the numeric (`float` or `int`) data-type values."
      ]
    },
    {
      "cell_type": "code",
      "metadata": {
        "id": "pd3a-0HJba4g",
        "colab": {
          "base_uri": "https://localhost:8080/",
          "height": 394
        },
        "outputId": "05f3238a-4b25-45c2-92a4-e68f2c2b2039"
      },
      "source": [
        "# S1.6: Print the first information of the 'df' DataFrame.\n",
        "df.head()"
      ],
      "execution_count": null,
      "outputs": [
        {
          "output_type": "execute_result",
          "data": {
            "text/html": [
              "<div>\n",
              "<style scoped>\n",
              "    .dataframe tbody tr th:only-of-type {\n",
              "        vertical-align: middle;\n",
              "    }\n",
              "\n",
              "    .dataframe tbody tr th {\n",
              "        vertical-align: top;\n",
              "    }\n",
              "\n",
              "    .dataframe thead th {\n",
              "        text-align: right;\n",
              "    }\n",
              "</style>\n",
              "<table border=\"1\" class=\"dataframe\">\n",
              "  <thead>\n",
              "    <tr style=\"text-align: right;\">\n",
              "      <th></th>\n",
              "      <th>DateTime</th>\n",
              "      <th>CO(GT)</th>\n",
              "      <th>PT08.S1(CO)</th>\n",
              "      <th>NMHC(GT)</th>\n",
              "      <th>C6H6(GT)</th>\n",
              "      <th>PT08.S2(NMHC)</th>\n",
              "      <th>NOx(GT)</th>\n",
              "      <th>PT08.S3(NOx)</th>\n",
              "      <th>NO2(GT)</th>\n",
              "      <th>PT08.S4(NO2)</th>\n",
              "      <th>PT08.S5(O3)</th>\n",
              "      <th>T</th>\n",
              "      <th>RH</th>\n",
              "      <th>AH</th>\n",
              "      <th>Year</th>\n",
              "      <th>Month</th>\n",
              "      <th>Day</th>\n",
              "      <th>Day Name</th>\n",
              "    </tr>\n",
              "  </thead>\n",
              "  <tbody>\n",
              "    <tr>\n",
              "      <th>0</th>\n",
              "      <td>2004-03-10 18:00:00</td>\n",
              "      <td>2.6</td>\n",
              "      <td>1360.0</td>\n",
              "      <td>150.0</td>\n",
              "      <td>11.9</td>\n",
              "      <td>1046.0</td>\n",
              "      <td>166.0</td>\n",
              "      <td>1056.0</td>\n",
              "      <td>113.0</td>\n",
              "      <td>1692.0</td>\n",
              "      <td>1268.0</td>\n",
              "      <td>13.6</td>\n",
              "      <td>48.9</td>\n",
              "      <td>0.7578</td>\n",
              "      <td>2004</td>\n",
              "      <td>3</td>\n",
              "      <td>10</td>\n",
              "      <td>Wednesday</td>\n",
              "    </tr>\n",
              "    <tr>\n",
              "      <th>1</th>\n",
              "      <td>2004-03-10 19:00:00</td>\n",
              "      <td>2.0</td>\n",
              "      <td>1292.0</td>\n",
              "      <td>112.0</td>\n",
              "      <td>9.4</td>\n",
              "      <td>955.0</td>\n",
              "      <td>103.0</td>\n",
              "      <td>1174.0</td>\n",
              "      <td>92.0</td>\n",
              "      <td>1559.0</td>\n",
              "      <td>972.0</td>\n",
              "      <td>13.3</td>\n",
              "      <td>47.7</td>\n",
              "      <td>0.7255</td>\n",
              "      <td>2004</td>\n",
              "      <td>3</td>\n",
              "      <td>10</td>\n",
              "      <td>Wednesday</td>\n",
              "    </tr>\n",
              "    <tr>\n",
              "      <th>2</th>\n",
              "      <td>2004-03-10 20:00:00</td>\n",
              "      <td>2.2</td>\n",
              "      <td>1402.0</td>\n",
              "      <td>88.0</td>\n",
              "      <td>9.0</td>\n",
              "      <td>939.0</td>\n",
              "      <td>131.0</td>\n",
              "      <td>1140.0</td>\n",
              "      <td>114.0</td>\n",
              "      <td>1555.0</td>\n",
              "      <td>1074.0</td>\n",
              "      <td>11.9</td>\n",
              "      <td>54.0</td>\n",
              "      <td>0.7502</td>\n",
              "      <td>2004</td>\n",
              "      <td>3</td>\n",
              "      <td>10</td>\n",
              "      <td>Wednesday</td>\n",
              "    </tr>\n",
              "    <tr>\n",
              "      <th>3</th>\n",
              "      <td>2004-03-10 21:00:00</td>\n",
              "      <td>2.2</td>\n",
              "      <td>1376.0</td>\n",
              "      <td>80.0</td>\n",
              "      <td>9.2</td>\n",
              "      <td>948.0</td>\n",
              "      <td>172.0</td>\n",
              "      <td>1092.0</td>\n",
              "      <td>122.0</td>\n",
              "      <td>1584.0</td>\n",
              "      <td>1203.0</td>\n",
              "      <td>11.0</td>\n",
              "      <td>60.0</td>\n",
              "      <td>0.7867</td>\n",
              "      <td>2004</td>\n",
              "      <td>3</td>\n",
              "      <td>10</td>\n",
              "      <td>Wednesday</td>\n",
              "    </tr>\n",
              "    <tr>\n",
              "      <th>4</th>\n",
              "      <td>2004-03-10 22:00:00</td>\n",
              "      <td>1.6</td>\n",
              "      <td>1272.0</td>\n",
              "      <td>51.0</td>\n",
              "      <td>6.5</td>\n",
              "      <td>836.0</td>\n",
              "      <td>131.0</td>\n",
              "      <td>1205.0</td>\n",
              "      <td>116.0</td>\n",
              "      <td>1490.0</td>\n",
              "      <td>1110.0</td>\n",
              "      <td>11.2</td>\n",
              "      <td>59.6</td>\n",
              "      <td>0.7888</td>\n",
              "      <td>2004</td>\n",
              "      <td>3</td>\n",
              "      <td>10</td>\n",
              "      <td>Wednesday</td>\n",
              "    </tr>\n",
              "  </tbody>\n",
              "</table>\n",
              "</div>"
            ],
            "text/plain": [
              "             DateTime  CO(GT)  PT08.S1(CO)  ...  Month  Day   Day Name\n",
              "0 2004-03-10 18:00:00     2.6       1360.0  ...      3   10  Wednesday\n",
              "1 2004-03-10 19:00:00     2.0       1292.0  ...      3   10  Wednesday\n",
              "2 2004-03-10 20:00:00     2.2       1402.0  ...      3   10  Wednesday\n",
              "3 2004-03-10 21:00:00     2.2       1376.0  ...      3   10  Wednesday\n",
              "4 2004-03-10 22:00:00     1.6       1272.0  ...      3   10  Wednesday\n",
              "\n",
              "[5 rows x 18 columns]"
            ]
          },
          "metadata": {},
          "execution_count": 13
        }
      ]
    },
    {
      "cell_type": "markdown",
      "metadata": {
        "id": "WX58NHE1tHOA"
      },
      "source": [
        "---\n"
      ]
    },
    {
      "cell_type": "markdown",
      "metadata": {
        "id": "HK42XBR0tIPg"
      },
      "source": [
        "#### Acitivity 2: Garbage Value Inspection^^\n",
        "\n",
        "The columns in the `df` DataFrame also contains `-200` value. It is a garbage value or just a random number to represent the further missing (or null) values in the DataFrame. Let's replace it with the most appropriate values for each column."
      ]
    },
    {
      "cell_type": "code",
      "metadata": {
        "id": "hIJc20qpbeJe",
        "colab": {
          "base_uri": "https://localhost:8080/",
          "height": 317
        },
        "outputId": "c8d30c1f-2e4c-4d50-8620-971a8d25fffe"
      },
      "source": [
        "# S2.1: Get the descriptive statistics for all the numeric data-type columns.\n",
        "df.describe()"
      ],
      "execution_count": null,
      "outputs": [
        {
          "output_type": "execute_result",
          "data": {
            "text/html": [
              "<div>\n",
              "<style scoped>\n",
              "    .dataframe tbody tr th:only-of-type {\n",
              "        vertical-align: middle;\n",
              "    }\n",
              "\n",
              "    .dataframe tbody tr th {\n",
              "        vertical-align: top;\n",
              "    }\n",
              "\n",
              "    .dataframe thead th {\n",
              "        text-align: right;\n",
              "    }\n",
              "</style>\n",
              "<table border=\"1\" class=\"dataframe\">\n",
              "  <thead>\n",
              "    <tr style=\"text-align: right;\">\n",
              "      <th></th>\n",
              "      <th>CO(GT)</th>\n",
              "      <th>PT08.S1(CO)</th>\n",
              "      <th>NMHC(GT)</th>\n",
              "      <th>C6H6(GT)</th>\n",
              "      <th>PT08.S2(NMHC)</th>\n",
              "      <th>NOx(GT)</th>\n",
              "      <th>PT08.S3(NOx)</th>\n",
              "      <th>NO2(GT)</th>\n",
              "      <th>PT08.S4(NO2)</th>\n",
              "      <th>PT08.S5(O3)</th>\n",
              "      <th>T</th>\n",
              "      <th>RH</th>\n",
              "      <th>AH</th>\n",
              "      <th>Year</th>\n",
              "      <th>Month</th>\n",
              "      <th>Day</th>\n",
              "    </tr>\n",
              "  </thead>\n",
              "  <tbody>\n",
              "    <tr>\n",
              "      <th>count</th>\n",
              "      <td>9357.000000</td>\n",
              "      <td>9357.000000</td>\n",
              "      <td>9357.000000</td>\n",
              "      <td>9357.000000</td>\n",
              "      <td>9357.000000</td>\n",
              "      <td>9357.000000</td>\n",
              "      <td>9357.000000</td>\n",
              "      <td>9357.000000</td>\n",
              "      <td>9357.000000</td>\n",
              "      <td>9357.000000</td>\n",
              "      <td>9357.000000</td>\n",
              "      <td>9357.000000</td>\n",
              "      <td>9357.000000</td>\n",
              "      <td>9357.000000</td>\n",
              "      <td>9357.000000</td>\n",
              "      <td>9357.000000</td>\n",
              "    </tr>\n",
              "    <tr>\n",
              "      <th>mean</th>\n",
              "      <td>-34.207524</td>\n",
              "      <td>1048.990061</td>\n",
              "      <td>-159.090093</td>\n",
              "      <td>1.865683</td>\n",
              "      <td>894.595276</td>\n",
              "      <td>168.616971</td>\n",
              "      <td>794.990168</td>\n",
              "      <td>58.148873</td>\n",
              "      <td>1391.479641</td>\n",
              "      <td>975.072032</td>\n",
              "      <td>9.778305</td>\n",
              "      <td>39.485380</td>\n",
              "      <td>-6.837604</td>\n",
              "      <td>2004.240141</td>\n",
              "      <td>6.310356</td>\n",
              "      <td>15.876884</td>\n",
              "    </tr>\n",
              "    <tr>\n",
              "      <th>std</th>\n",
              "      <td>77.657170</td>\n",
              "      <td>329.832710</td>\n",
              "      <td>139.789093</td>\n",
              "      <td>41.380206</td>\n",
              "      <td>342.333252</td>\n",
              "      <td>257.433866</td>\n",
              "      <td>321.993552</td>\n",
              "      <td>126.940455</td>\n",
              "      <td>467.210125</td>\n",
              "      <td>456.938184</td>\n",
              "      <td>43.203623</td>\n",
              "      <td>51.216145</td>\n",
              "      <td>38.976670</td>\n",
              "      <td>0.427192</td>\n",
              "      <td>3.438160</td>\n",
              "      <td>8.808653</td>\n",
              "    </tr>\n",
              "    <tr>\n",
              "      <th>min</th>\n",
              "      <td>-200.000000</td>\n",
              "      <td>-200.000000</td>\n",
              "      <td>-200.000000</td>\n",
              "      <td>-200.000000</td>\n",
              "      <td>-200.000000</td>\n",
              "      <td>-200.000000</td>\n",
              "      <td>-200.000000</td>\n",
              "      <td>-200.000000</td>\n",
              "      <td>-200.000000</td>\n",
              "      <td>-200.000000</td>\n",
              "      <td>-200.000000</td>\n",
              "      <td>-200.000000</td>\n",
              "      <td>-200.000000</td>\n",
              "      <td>2004.000000</td>\n",
              "      <td>1.000000</td>\n",
              "      <td>1.000000</td>\n",
              "    </tr>\n",
              "    <tr>\n",
              "      <th>25%</th>\n",
              "      <td>0.600000</td>\n",
              "      <td>921.000000</td>\n",
              "      <td>-200.000000</td>\n",
              "      <td>4.000000</td>\n",
              "      <td>711.000000</td>\n",
              "      <td>50.000000</td>\n",
              "      <td>637.000000</td>\n",
              "      <td>53.000000</td>\n",
              "      <td>1185.000000</td>\n",
              "      <td>700.000000</td>\n",
              "      <td>10.900000</td>\n",
              "      <td>34.100000</td>\n",
              "      <td>0.692300</td>\n",
              "      <td>2004.000000</td>\n",
              "      <td>3.000000</td>\n",
              "      <td>8.000000</td>\n",
              "    </tr>\n",
              "    <tr>\n",
              "      <th>50%</th>\n",
              "      <td>1.500000</td>\n",
              "      <td>1053.000000</td>\n",
              "      <td>-200.000000</td>\n",
              "      <td>7.900000</td>\n",
              "      <td>895.000000</td>\n",
              "      <td>141.000000</td>\n",
              "      <td>794.000000</td>\n",
              "      <td>96.000000</td>\n",
              "      <td>1446.000000</td>\n",
              "      <td>942.000000</td>\n",
              "      <td>17.200000</td>\n",
              "      <td>48.600000</td>\n",
              "      <td>0.976800</td>\n",
              "      <td>2004.000000</td>\n",
              "      <td>6.000000</td>\n",
              "      <td>16.000000</td>\n",
              "    </tr>\n",
              "    <tr>\n",
              "      <th>75%</th>\n",
              "      <td>2.600000</td>\n",
              "      <td>1221.000000</td>\n",
              "      <td>-200.000000</td>\n",
              "      <td>13.600000</td>\n",
              "      <td>1105.000000</td>\n",
              "      <td>284.000000</td>\n",
              "      <td>960.000000</td>\n",
              "      <td>133.000000</td>\n",
              "      <td>1662.000000</td>\n",
              "      <td>1255.000000</td>\n",
              "      <td>24.100000</td>\n",
              "      <td>61.900000</td>\n",
              "      <td>1.296200</td>\n",
              "      <td>2004.000000</td>\n",
              "      <td>9.000000</td>\n",
              "      <td>23.000000</td>\n",
              "    </tr>\n",
              "    <tr>\n",
              "      <th>max</th>\n",
              "      <td>11.900000</td>\n",
              "      <td>2040.000000</td>\n",
              "      <td>1189.000000</td>\n",
              "      <td>63.700000</td>\n",
              "      <td>2214.000000</td>\n",
              "      <td>1479.000000</td>\n",
              "      <td>2683.000000</td>\n",
              "      <td>340.000000</td>\n",
              "      <td>2775.000000</td>\n",
              "      <td>2523.000000</td>\n",
              "      <td>44.600000</td>\n",
              "      <td>88.700000</td>\n",
              "      <td>2.231000</td>\n",
              "      <td>2005.000000</td>\n",
              "      <td>12.000000</td>\n",
              "      <td>31.000000</td>\n",
              "    </tr>\n",
              "  </tbody>\n",
              "</table>\n",
              "</div>"
            ],
            "text/plain": [
              "            CO(GT)  PT08.S1(CO)  ...        Month          Day\n",
              "count  9357.000000  9357.000000  ...  9357.000000  9357.000000\n",
              "mean    -34.207524  1048.990061  ...     6.310356    15.876884\n",
              "std      77.657170   329.832710  ...     3.438160     8.808653\n",
              "min    -200.000000  -200.000000  ...     1.000000     1.000000\n",
              "25%       0.600000   921.000000  ...     3.000000     8.000000\n",
              "50%       1.500000  1053.000000  ...     6.000000    16.000000\n",
              "75%       2.600000  1221.000000  ...     9.000000    23.000000\n",
              "max      11.900000  2040.000000  ...    12.000000    31.000000\n",
              "\n",
              "[8 rows x 16 columns]"
            ]
          },
          "metadata": {},
          "execution_count": 14
        }
      ]
    },
    {
      "cell_type": "markdown",
      "metadata": {
        "id": "DYTzyjJXtzsU"
      },
      "source": [
        "Except for the `Year, Month` and `Day` columns all the other columns contain the `-200` as its minimum value. Because of this their mean values are also affect. The median value never gets affected due to some garbage value or very high and very low values. So, we can replace `-200` with the median value for each column.\n",
        "\n",
        "But first, let's find out how many rows contain `-200` in each column except for the `DateTime, Year, Month` and `Day` columns."
      ]
    },
    {
      "cell_type": "code",
      "metadata": {
        "id": "Qp7TOb6nbhy_",
        "colab": {
          "base_uri": "https://localhost:8080/"
        },
        "outputId": "ed15f2da-6d6a-4a82-cfd4-172dd296764d"
      },
      "source": [
        "# T2.1: How many rows contain -200 in each column except for the 'DateTime', 'Year', 'Month' and 'Day' columns?\n",
        "neg =[(col, df[df[col] == -200].shape[0])for col in df.columns[1 : -4]]\n",
        "neg"
      ],
      "execution_count": null,
      "outputs": [
        {
          "output_type": "execute_result",
          "data": {
            "text/plain": [
              "[('CO(GT)', 1683),\n",
              " ('PT08.S1(CO)', 366),\n",
              " ('NMHC(GT)', 8443),\n",
              " ('C6H6(GT)', 366),\n",
              " ('PT08.S2(NMHC)', 366),\n",
              " ('NOx(GT)', 1639),\n",
              " ('PT08.S3(NOx)', 366),\n",
              " ('NO2(GT)', 1642),\n",
              " ('PT08.S4(NO2)', 366),\n",
              " ('PT08.S5(O3)', 366),\n",
              " ('T', 366),\n",
              " ('RH', 366),\n",
              " ('AH', 366)]"
            ]
          },
          "metadata": {},
          "execution_count": 15
        }
      ]
    },
    {
      "cell_type": "markdown",
      "metadata": {
        "id": "N4t2hUn8vJRx"
      },
      "source": [
        "In the above code:\n",
        "\n",
        "- we iterated through each column having indices between `1` and `-4` (excluding `-4`) in the `df` DataFrame,\n",
        "\n",
        "- retrieved the rows containing `-200` value using the `df[df[col] == -200]` opeartion,\n",
        "\n",
        "- calculated the number of such rows using the `shape[0]` attribute, and\n",
        "\n",
        "- added the column name and the corresponding counts of `-200` in each columnn as a tuple in a list using the list comprehension method.\n",
        "\n",
        "Now, let's also find out the percentage of rows contain `-200` in each column except for the `DateTime, Year, Month` and `Day` columns."
      ]
    },
    {
      "cell_type": "code",
      "metadata": {
        "id": "F7Me37cnbkEe",
        "colab": {
          "base_uri": "https://localhost:8080/"
        },
        "outputId": "cfead056-4a27-4b18-901a-df467c46515a"
      },
      "source": [
        "# S2.2: Find out the percentage of rows contain -200 in each column except for the 'DateTime', 'Year', 'Month' and 'Day' columns.\n",
        "neg =[(col, df[df[col] == -200].shape[0] * 100/df.shape[0]) for col in df.columns[1 : -4]]\n",
        "neg"
      ],
      "execution_count": null,
      "outputs": [
        {
          "output_type": "execute_result",
          "data": {
            "text/plain": [
              "[('CO(GT)', 17.986534145559474),\n",
              " ('PT08.S1(CO)', 3.9115100993908305),\n",
              " ('NMHC(GT)', 90.23191193758683),\n",
              " ('C6H6(GT)', 3.9115100993908305),\n",
              " ('PT08.S2(NMHC)', 3.9115100993908305),\n",
              " ('NOx(GT)', 17.51629795874746),\n",
              " ('PT08.S3(NOx)', 3.9115100993908305),\n",
              " ('NO2(GT)', 17.54835951693919),\n",
              " ('PT08.S4(NO2)', 3.9115100993908305),\n",
              " ('PT08.S5(O3)', 3.9115100993908305),\n",
              " ('T', 3.9115100993908305),\n",
              " ('RH', 3.9115100993908305),\n",
              " ('AH', 3.9115100993908305)]"
            ]
          },
          "metadata": {},
          "execution_count": 31
        }
      ]
    },
    {
      "cell_type": "markdown",
      "metadata": {
        "id": "HUkd-vEBxVva"
      },
      "source": [
        "Using the same process as above, we calculate the percentage of rows contain `-200` in each column except for the `DateTime, Year, Month` and `Day` columns.\n",
        "\n",
        "Now, let's remove all the columns from the `df` DataFrame containing more than 10% garbage value."
      ]
    },
    {
      "cell_type": "code",
      "metadata": {
        "id": "zJUftyBSbl5e"
      },
      "source": [
        "# S2.3: Remove all the columns from the 'df' DataFrame containing more than 10% garbage value.\n",
        "df = df.drop(columns = ['CO(GT)','NMHC(GT)','NOx(GT)','NO2(GT)'],axis = 1)"
      ],
      "execution_count": null,
      "outputs": []
    },
    {
      "cell_type": "markdown",
      "metadata": {
        "id": "rz7evgEOyMpC"
      },
      "source": [
        "Again, calculate the percentage of rows contain `-200` in each column except for the `DateTime, Year, Month` and `Day` columns."
      ]
    },
    {
      "cell_type": "code",
      "metadata": {
        "id": "8fk4W9Yvbobs",
        "colab": {
          "base_uri": "https://localhost:8080/"
        },
        "outputId": "662fa41a-0b04-436f-9d4f-de4abaa7816c"
      },
      "source": [
        "# S2.4: Again, calculate the percentage of rows containing '-200' in each column except for the 'DateTime', 'Year', 'Month' and 'Day' columns.\n",
        "neg =[(col, df[df[col] == -200].shape[0] * 100/df.shape[0]) for col in df.columns[1 : -4]]\n",
        "neg"
      ],
      "execution_count": null,
      "outputs": [
        {
          "output_type": "execute_result",
          "data": {
            "text/plain": [
              "[('PT08.S1(CO)', 3.9115100993908305),\n",
              " ('C6H6(GT)', 3.9115100993908305),\n",
              " ('PT08.S2(NMHC)', 3.9115100993908305),\n",
              " ('PT08.S3(NOx)', 3.9115100993908305),\n",
              " ('PT08.S4(NO2)', 3.9115100993908305),\n",
              " ('PT08.S5(O3)', 3.9115100993908305),\n",
              " ('T', 3.9115100993908305),\n",
              " ('RH', 3.9115100993908305),\n",
              " ('AH', 3.9115100993908305)]"
            ]
          },
          "metadata": {},
          "execution_count": 43
        }
      ]
    },
    {
      "cell_type": "markdown",
      "metadata": {
        "id": "_WQClexBylk7"
      },
      "source": [
        "Let's replace the `-200` value with the median values in all the columns except for the `DateTime, Year, Month` and `Day` columns.\n",
        "\n",
        "Before that we should split the entire DataFrame in two different DataFrames because it contains data for two different years, i.e., 2004 and 2005. Then we should calculate the median values for each column for 2004 and 2005 separately. However, we can also first find out whether the median values are actually different for the two years. If they are not, then we don't need to split the DataFrame into two DataFrames for 2004 and 2005 datapoints."
      ]
    },
    {
      "cell_type": "code",
      "metadata": {
        "id": "9YAwYfI9buN-"
      },
      "source": [
        "# T2.2: Calculate the median values for the columns having indices between 1 and -4 (excluding -4) for the year 2004.\n"
      ],
      "execution_count": null,
      "outputs": []
    },
    {
      "cell_type": "code",
      "metadata": {
        "id": "oTxCmCsjbwGj"
      },
      "source": [
        "# S2.5: Calculate the median values for the columns having indices between 1 and -4 (excluding -4) for the year 2005.\n"
      ],
      "execution_count": null,
      "outputs": []
    },
    {
      "cell_type": "markdown",
      "metadata": {
        "id": "DY8W_2ge0yil"
      },
      "source": [
        "As we can see, the median values for 2004 and 2005 are different. Hence, we should split the `df` DataFrame into two different DataFrames. One for 2004 datapoints and another for 2005 datapoints."
      ]
    },
    {
      "cell_type": "markdown",
      "metadata": {
        "id": "Xv6z2R3j1el6"
      },
      "source": [
        "---"
      ]
    },
    {
      "cell_type": "markdown",
      "metadata": {
        "id": "lBEtpZ5xb1MO"
      },
      "source": [
        "#### Activity 3: Garbage Value Replacement^^^\n",
        "\n",
        "Before we separate the DataFrame, let's calculate the count of 2004 and 2005 datapoints."
      ]
    },
    {
      "cell_type": "code",
      "metadata": {
        "id": "1HCdKdb8bsZF"
      },
      "source": [
        "# S3.1: Count the number of rows containing '2004' and '2005' year values.\n"
      ],
      "execution_count": null,
      "outputs": []
    },
    {
      "cell_type": "markdown",
      "metadata": {
        "id": "LfSNiYOVzbLI"
      },
      "source": [
        "The DataFrame for 2004 year should have 7110 rows which means the DataFrame for 2005 year should have 2247 rows."
      ]
    },
    {
      "cell_type": "code",
      "metadata": {
        "id": "DX_N7oKjb19r"
      },
      "source": [
        "# S3.2: Create a new DataFrame containing records for the year 2004. Also, display the first five rows.\n"
      ],
      "execution_count": null,
      "outputs": []
    },
    {
      "cell_type": "code",
      "metadata": {
        "id": "OfIamjv9b4iq"
      },
      "source": [
        "# S3.3 Calculate the number of rows and columns in the DataFrame for the 2004 year records.\n"
      ],
      "execution_count": null,
      "outputs": []
    },
    {
      "cell_type": "code",
      "metadata": {
        "id": "OV-LTYaCb6eI"
      },
      "source": [
        "# S3.4: Create a new DataFrame containing records for the year 2005. Also, display the first five rows.\n"
      ],
      "execution_count": null,
      "outputs": []
    },
    {
      "cell_type": "code",
      "metadata": {
        "id": "LGMt9A_hb-Ma"
      },
      "source": [
        "# S3.5 Calculate the number of rows and columns in the DataFrame for the 2004 year records.\n"
      ],
      "execution_count": null,
      "outputs": []
    },
    {
      "cell_type": "markdown",
      "metadata": {
        "id": "ebn1SrZC2qZF"
      },
      "source": [
        "Now, let's replace the `-200` value with the median values for each column having indices between 1 and -4 (excluding -4) for both the 2004 and 2005 year DataFrames."
      ]
    },
    {
      "cell_type": "code",
      "metadata": {
        "id": "z_L4Vk0LcCDm"
      },
      "source": [
        "# T3.1: Replace the -200 value with the median values for each column having indices between 1 and -4 (excluding -4) for the 2004 year DataFrame.\n"
      ],
      "execution_count": null,
      "outputs": []
    },
    {
      "cell_type": "markdown",
      "metadata": {
        "id": "h5Gx_ITdueGS"
      },
      "source": [
        "```\n",
        "import warnings\n",
        "warnings.filterwarnings('ignore')\n",
        "```\n",
        "\n",
        "The above code will remove all the warnings that we may get."
      ]
    },
    {
      "cell_type": "code",
      "metadata": {
        "id": "c3-WHh7lcGNy"
      },
      "source": [
        "# S3.6: Repeat the same exercise for the 2005 year DataFrame.\n"
      ],
      "execution_count": null,
      "outputs": []
    },
    {
      "cell_type": "markdown",
      "metadata": {
        "id": "5yHuQJOI31t_"
      },
      "source": [
        "Now, let's again, calculate the number of rows containing '-200' in each column except for the `DateTime, Year, Month` and `Day` columns in both the DataFrames."
      ]
    },
    {
      "cell_type": "code",
      "metadata": {
        "id": "tbefMOs_cILq"
      },
      "source": [
        "# S3.7: Compute the number of rows containing '-200' in each column having indices between 1 and -4 (excluding -4) in the 2004 year DataFrame.\n"
      ],
      "execution_count": null,
      "outputs": []
    },
    {
      "cell_type": "code",
      "metadata": {
        "id": "YkW93PNTcKtg"
      },
      "source": [
        "# S3.8: Again, calculate the percentage of rows containing '-200' in each column except for the 'DateTime', 'Year', 'Month' and 'Day' columns.\n"
      ],
      "execution_count": null,
      "outputs": []
    },
    {
      "cell_type": "markdown",
      "metadata": {
        "id": "9QvvVwQ056a5"
      },
      "source": [
        "Let's pause here. In the next class, we will learn how to group a DataFrame about a particular column to perform aggregation operations such as count, mean, median and sum."
      ]
    },
    {
      "cell_type": "markdown",
      "metadata": {
        "id": "XdlP6if3554T"
      },
      "source": [
        "---"
      ]
    }
  ]
}