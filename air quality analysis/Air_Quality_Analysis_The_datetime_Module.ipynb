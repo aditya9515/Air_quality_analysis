{
  "nbformat": 4,
  "nbformat_minor": 0,
  "metadata": {
    "colab": {
      "provenance": []
    },
    "kernelspec": {
      "name": "python3",
      "display_name": "Python 3"
    }
  },
  "cells": [
    {
      "cell_type": "markdown",
      "metadata": {
        "id": "j0DY8b_g-p3s"
      },
      "source": [
        "# Lesson 39: Air Quality Analysis - The `datetime` Module"
      ]
    },
    {
      "cell_type": "markdown",
      "metadata": {
        "id": "SOzBJ9tGdovN"
      },
      "source": [
        "### Teacher-Student Activities\n",
        "\n",
        "Let's quickly learn about the features and functions of `datetime` module which is a dedicated module for working with `datetime` objects in Python. Then we will continue with the air quality analysis project."
      ]
    },
    {
      "cell_type": "markdown",
      "metadata": {
        "id": "pmA7GRKwoY-f"
      },
      "source": [
        "---"
      ]
    },
    {
      "cell_type": "markdown",
      "metadata": {
        "id": "smrd6G1QeZCl"
      },
      "source": [
        "#### Activity 1: The `datetime.now()` function\n",
        "\n",
        "The `datetime` module allows us to create date and time objects and manipulate them as we desire. Let's start with importing the `datetime` module."
      ]
    },
    {
      "cell_type": "code",
      "metadata": {
        "id": "cy1hhsRGeK5e"
      },
      "source": [
        "# S1.1: Import the 'datetime' module.\n",
        "import datetime"
      ],
      "execution_count": null,
      "outputs": []
    },
    {
      "cell_type": "markdown",
      "metadata": {
        "id": "6jwmnBlsefb8"
      },
      "source": [
        "Let's now print the current date and time using the `datetime.now()`. It returns the current time in Greenwich Mean Time (GMT) or Coordinated Universal Time (UTC) time zone.\n",
        "\n",
        "The syntax for using the `datetime.now()` function is `datetime.datetime.now()` where the first occurrence of `datetime` denotes the module name and its second occurrence denotes the object type.\n",
        "\n",
        "**Note:** The default format of the `datetime` object is `YYYY-MM-DD HH:MM:SS` where\n",
        "\n",
        "- `YYYY` denotes year,\n",
        "\n",
        "- `MM` denotes month,\n",
        "\n",
        "- `DD` denotes day,\n",
        "\n",
        "- `HH` denotes hours in 24-hours,\n",
        "\n",
        "- `MM` denotes minutes, and\n",
        "\n",
        "- `SS` denotes seconds"
      ]
    },
    {
      "cell_type": "code",
      "metadata": {
        "id": "sU2k0cZvef-E",
        "colab": {
          "base_uri": "https://localhost:8080/"
        },
        "outputId": "fa8fa176-d0a5-45a6-8d17-ae3636c1eb6d"
      },
      "source": [
        "# S1.2: Get the current time, print it and its data-type.\n",
        "curr_time = datetime.datetime.now()\n",
        "curr_time"
      ],
      "execution_count": null,
      "outputs": [
        {
          "output_type": "execute_result",
          "data": {
            "text/plain": [
              "datetime.datetime(2021, 9, 1, 13, 8, 1, 884918)"
            ]
          },
          "metadata": {},
          "execution_count": 2
        }
      ]
    },
    {
      "cell_type": "markdown",
      "metadata": {
        "id": "4S6MRS1Kejv3"
      },
      "source": [
        "The fractional value in the above time is microseconds. That's the level of precision of a `datetime` object.\n",
        "\n",
        "You can apply the `day, month, year, hour, minute` and `second` attributes to get the corresponding day, month, year, hour, minute and second values."
      ]
    },
    {
      "cell_type": "code",
      "metadata": {
        "id": "G4UMyvi2ChHG"
      },
      "source": [
        "# S1.3: Get the corresponding day, month, year, hour, minute and second values. Print the values.\n",
        "curr_time.day\n",
        "curr_time.month\n",
        "curr_time.year\n",
        "curr_time.hour\n",
        "curr_time.minute\n",
        "curr_time.second"
      ],
      "execution_count": null,
      "outputs": []
    },
    {
      "cell_type": "markdown",
      "metadata": {
        "id": "BPTB8NLyoa10"
      },
      "source": [
        "---"
      ]
    },
    {
      "cell_type": "markdown",
      "metadata": {
        "id": "NoU5ZgSbmd8Q"
      },
      "source": [
        "#### Activity 2: The `timedelta` Object\n",
        "\n",
        "To get time in Indian Standard Time (IST) time zone, we have to add 5 hours and 30 minutes to the UTC time because IST is equivalent to UTC+5:30. For this, we need to use the `timedelta` object. It represents a duration, the difference between two dates or times.\n",
        "\n",
        "Inside the `timedelta` object, you may pass any one of the following parameters (or arguments).\n",
        "\n",
        "- `days`,\n",
        "\n",
        "- `seconds=0`,\n",
        "\n",
        "- `microseconds`,\n",
        "\n",
        "- `milliseconds`,\n",
        "\n",
        "- `minutes`,\n",
        "\n",
        "- `hours`, and\n",
        "\n",
        "- `weeks`\n",
        "\n",
        "The default value of each of the above parameters is zero. Let's pass `hours=5` and `minutes=30` parameters to the `timedelta` object. Then add it to the current time.\n"
      ]
    },
    {
      "cell_type": "code",
      "metadata": {
        "id": "P4Lb_KE3ekQ6"
      },
      "source": [
        "# S2.1: Get the current time in IST (or UTC+5:30) time zone. Print it and its data-type.\n",
        "ist = datetime.datetime.now() + datetime.timedelta(hours = 5, minutes = 30)"
      ],
      "execution_count": null,
      "outputs": []
    },
    {
      "cell_type": "markdown",
      "metadata": {
        "id": "QmgAEY4-spNK"
      },
      "source": [
        "You can also convert the datetime in any time zone by simply adding or subtracting the hours and minutes values from the current time. As a practice, let's convert the current time in the UTC-7:00 zone. It's the time zone for the pacific region of the USA. The silicon valley is located in the same regions."
      ]
    },
    {
      "cell_type": "code",
      "metadata": {
        "id": "f8MbNKBb0rlP"
      },
      "source": [
        "# S2.2: Get the current time in the UTC-7 time zone.\n"
      ],
      "execution_count": null,
      "outputs": []
    },
    {
      "cell_type": "markdown",
      "metadata": {
        "id": "aWXeBNLgoTfs"
      },
      "source": [
        "---"
      ]
    },
    {
      "cell_type": "markdown",
      "metadata": {
        "id": "bZXxHzxqmAc2"
      },
      "source": [
        "#### Activity 3: The `datetime.strftime()` Function\n",
        "\n",
        "The current date and time values are `datetime` objects. Let's convert them into a string value using the `strftime()` function in the `Month Day, Year HH:MM:SS AM/PM` format where `HH` hours in 12-hour format.\n",
        "\n",
        "Click on the link provided below to get the format codes.\n",
        "\n",
        "[The `strftime()` & `strptime()` Format Codes](https://docs.python.org/3/library/datetime.html#strftime-and-strptime-behavior)\n",
        "\n",
        "**Note:** You may choose any other format of your liking to format a date and time value."
      ]
    },
    {
      "cell_type": "code",
      "metadata": {
        "id": "8Xld_wlHepeZ",
        "colab": {
          "base_uri": "https://localhost:8080/",
          "height": 35
        },
        "outputId": "a32827b4-38d3-4a2f-9fb1-dccd03a7505c"
      },
      "source": [
        "# S3.1 Convert the current date and time into a string. Also print the data-type of the final value.\n",
        "ist.strftime('%B %d %y %I : %M : %S %p')"
      ],
      "execution_count": null,
      "outputs": [
        {
          "output_type": "execute_result",
          "data": {
            "application/vnd.google.colaboratory.intrinsic+json": {
              "type": "string"
            },
            "text/plain": [
              "'September 01 21 06 : 48 : 11 PM'"
            ]
          },
          "metadata": {},
          "execution_count": 8
        }
      ]
    },
    {
      "cell_type": "markdown",
      "metadata": {
        "id": "a8MFaxscq5Br"
      },
      "source": [
        "As you can see, we have converted the date and time values into a string in the desired format."
      ]
    },
    {
      "cell_type": "markdown",
      "metadata": {
        "id": "mWwagNUOsOWQ"
      },
      "source": [
        "---"
      ]
    },
    {
      "cell_type": "markdown",
      "metadata": {
        "id": "TzBnQcuLrFaq"
      },
      "source": [
        "#### Activity 4: The `date()` & `time()` Functions\n",
        "\n",
        "Let's first separate the date and time values from the current `datetime` object using the `date()` and `time()` functions respectively.\n",
        "\n",
        "Also, let's convert the date and time values into string and format them in the `Month Day, Year` and `HH:MM:SS AM/PM` date and time formats respectively."
      ]
    },
    {
      "cell_type": "code",
      "metadata": {
        "id": "-vpWl0_UetJR",
        "colab": {
          "base_uri": "https://localhost:8080/"
        },
        "outputId": "b03a9812-7506-4dbd-f284-e085304d5650"
      },
      "source": [
        "# S4.1: Separate the date and time values from the 'datetime' object. Convert them into string. Print the final values and their data-types.\n",
        "ist.date()\n",
        "ist.time()"
      ],
      "execution_count": null,
      "outputs": [
        {
          "output_type": "execute_result",
          "data": {
            "text/plain": [
              "datetime.time(18, 48, 11, 466509)"
            ]
          },
          "metadata": {},
          "execution_count": 10
        }
      ]
    },
    {
      "cell_type": "markdown",
      "metadata": {
        "id": "6Vhb0qIWuEom"
      },
      "source": [
        "---"
      ]
    },
    {
      "cell_type": "markdown",
      "metadata": {
        "id": "D6MRwgKIev0e"
      },
      "source": [
        "#### Activity 5: The `datetime.strptime()` Function^^^\n",
        "\n",
        "We can create a `datetime` object by passing the string values to the `strptime()` function.\n",
        "\n",
        "As an example, let's create a `datetime` object for the date December 26, 2019. It was the day when the Earth observed the latest annular solar eclipse at around 0334 hours (GMT) in Saudi Arabia. Click on the link provided below to read about it more.\n",
        "\n",
        "[Annular Solar Eclipse on December 26, 2019](https://www.space.com/ring-of-fire-solar-eclipse-2019-photos-videos.html)\n",
        "\n",
        "The `strptime()` function requires two parameters:  \n",
        "\n",
        "- The `datetime` object as a string\n",
        "\n",
        "- The combination of format codes for the passed `datetime` object. E.g., if the datetime object is `May 04, 2020 06:14:48 PM`, then the required combination format codes is `'%B %d, %Y %I:%M:%S %p'`"
      ]
    },
    {
      "cell_type": "code",
      "metadata": {
        "id": "R8WBV8g9eyhe",
        "colab": {
          "base_uri": "https://localhost:8080/"
        },
        "outputId": "c3875a0c-5a99-4343-8f2a-90bbd9ad7b82"
      },
      "source": [
        "# S5.1: Create a datetime object by passing the string values to the 'strptime()' function. Also, print the data-type of the object.\n",
        "datetime.datetime.strptime('September 01 21', '%B %d %y')\n"
      ],
      "execution_count": null,
      "outputs": [
        {
          "output_type": "execute_result",
          "data": {
            "text/plain": [
              "datetime.datetime(2021, 9, 1, 0, 0)"
            ]
          },
          "metadata": {},
          "execution_count": 11
        }
      ]
    },
    {
      "cell_type": "markdown",
      "metadata": {
        "id": "kwRJ4y83Iyeq"
      },
      "source": [
        "**Fun Fact:** An eclipse repeats itself in approximately 6,585.3 days.\n",
        "\n",
        "So, we can determine the date and time for the next occurrence of the annular solar eclipse that was observed on 26 December 2019."
      ]
    },
    {
      "cell_type": "code",
      "metadata": {
        "id": "mpqm8sa7HFwh"
      },
      "source": [
        "# S5.2: Determine the date and time for the next occurrence of the annular solar eclipse that was observed on 26 December 2019.\n"
      ],
      "execution_count": null,
      "outputs": []
    },
    {
      "cell_type": "markdown",
      "metadata": {
        "id": "8OsxsPr5yWPk"
      },
      "source": [
        "So, the last annular solar eclipse will repeat again on 5 January 2038 at about 10:47 AM. You can verify it by opening the document provided below and jumping to page number A-480.\n",
        "\n",
        "[List of Solar Eclipses](https://eclipse.gsfc.nasa.gov/5MCSE/5MCSE-Maps-10.pdf)\n",
        "\n",
        "Here is a snapshot from the document.\n",
        "\n",
        "<img src='https://student-datasets-bucket.s3.ap-south-1.amazonaws.com/images/next_annular_solar_eclipse2038.png' width=800>"
      ]
    },
    {
      "cell_type": "markdown",
      "metadata": {
        "id": "q2BJBdeR0tWV"
      },
      "source": [
        "---"
      ]
    },
    {
      "cell_type": "markdown",
      "metadata": {
        "id": "-ld_gHsVwn-F"
      },
      "source": [
        "#### Activity 6: Only `dates` & `times`^^"
      ]
    },
    {
      "cell_type": "markdown",
      "metadata": {
        "id": "xsKQ8ZA13ICF"
      },
      "source": [
        "We can create separate `datetime.date` and `datetime.time` objects by passing values to the `date()` and `time()` functions."
      ]
    },
    {
      "cell_type": "code",
      "metadata": {
        "id": "Cv4qW53bJ9Vy",
        "colab": {
          "base_uri": "https://localhost:8080/"
        },
        "outputId": "e972ffc6-f942-4853-9a0f-3858e68fba2c"
      },
      "source": [
        "# S6.1 Create only a 'datetime.date' object for your birthday. Print it and its data-type.\n",
        "date1 = datetime.date(2021, 8, 3)\n",
        "date1"
      ],
      "execution_count": null,
      "outputs": [
        {
          "output_type": "execute_result",
          "data": {
            "text/plain": [
              "datetime.date(2021, 8, 3)"
            ]
          },
          "metadata": {},
          "execution_count": 13
        }
      ]
    },
    {
      "cell_type": "code",
      "metadata": {
        "id": "dOck1OebKK_J"
      },
      "source": [
        "# S6.2 Create only a 'datetime.time' object for any random time. Print it and its data-type.\n"
      ],
      "execution_count": null,
      "outputs": []
    },
    {
      "cell_type": "markdown",
      "metadata": {
        "id": "uFNSA3NGfKYL"
      },
      "source": [
        "---"
      ]
    },
    {
      "cell_type": "markdown",
      "metadata": {
        "id": "RbKE24jFAYgj"
      },
      "source": [
        "#### Activity 7: Continuing Air Quality Analysis\n",
        "\n",
        "Let's continue with the air quality analysis. We need to load the dataset, remove the `Unnamed: 15` & `Unnamed: 16` columns and drop the null values.\n",
        "\n",
        "Also, in the previous class, we created a new Pandas series containing the concatenated date and time values."
      ]
    },
    {
      "cell_type": "code",
      "metadata": {
        "id": "xczoNMbpBb8l",
        "colab": {
          "base_uri": "https://localhost:8080/"
        },
        "outputId": "d544732d-122e-442e-b5a2-dfa8208116f4"
      },
      "source": [
        "# S7.1: Run the code cell.\n",
        "import numpy as np\n",
        "import pandas as pd\n",
        "import matplotlib.pyplot as plt\n",
        "import seaborn as sns\n",
        "\n",
        "# Loading the dataset\n",
        "csv_file = 'https://student-datasets-bucket.s3.ap-south-1.amazonaws.com/whitehat-ds-datasets/air-quality/AirQualityUCI.csv'\n",
        "df = pd.read_csv(csv_file, sep=';')\n",
        "\n",
        "# Dropping the 'Unnamed: 15' & 'Unnamed: 16' columns\n",
        "df = df.drop(columns=['Unnamed: 15', 'Unnamed: 16'], axis=1)\n",
        "\n",
        "# Dropping the null values\n",
        "df = df.dropna()\n",
        "\n",
        "# Creating a Pandas series containing 'datetime' objects.\n",
        "dt_series = pd.Series(data = [item.split(\"/\")[2] + \"-\" + item.split(\"/\")[1] + \"-\" + item.split(\"/\")[0] for item in df['Date']], index=df.index) + ' ' + pd.Series(data=[str(item).replace(\".\", \":\") for item in df['Time']], index=df.index)\n",
        "dt_series = pd.to_datetime(dt_series)\n",
        "dt_series"
      ],
      "execution_count": null,
      "outputs": [
        {
          "output_type": "execute_result",
          "data": {
            "text/plain": [
              "0      2004-03-10 18:00:00\n",
              "1      2004-03-10 19:00:00\n",
              "2      2004-03-10 20:00:00\n",
              "3      2004-03-10 21:00:00\n",
              "4      2004-03-10 22:00:00\n",
              "               ...        \n",
              "9352   2005-04-04 10:00:00\n",
              "9353   2005-04-04 11:00:00\n",
              "9354   2005-04-04 12:00:00\n",
              "9355   2005-04-04 13:00:00\n",
              "9356   2005-04-04 14:00:00\n",
              "Length: 9357, dtype: datetime64[ns]"
            ]
          },
          "metadata": {},
          "execution_count": 14
        }
      ]
    },
    {
      "cell_type": "markdown",
      "metadata": {
        "id": "6sCS3wC6FfTh"
      },
      "source": [
        "Let's remove the `Date` & `Time` columns from the DataFrame because we don't need them and insert the `dt_series` in it because it contains the `datetime` objects."
      ]
    },
    {
      "cell_type": "code",
      "metadata": {
        "id": "0GALRL4-F6PX",
        "colab": {
          "base_uri": "https://localhost:8080/",
          "height": 204
        },
        "outputId": "474ec8fb-8d21-4954-a25d-ec36334b1dca"
      },
      "source": [
        "# S7.2 Display the first five rows of the DataFrame before removing the 'Date' and 'Time' columns.\n",
        "df.head()"
      ],
      "execution_count": null,
      "outputs": [
        {
          "output_type": "execute_result",
          "data": {
            "text/html": [
              "<div>\n",
              "<style scoped>\n",
              "    .dataframe tbody tr th:only-of-type {\n",
              "        vertical-align: middle;\n",
              "    }\n",
              "\n",
              "    .dataframe tbody tr th {\n",
              "        vertical-align: top;\n",
              "    }\n",
              "\n",
              "    .dataframe thead th {\n",
              "        text-align: right;\n",
              "    }\n",
              "</style>\n",
              "<table border=\"1\" class=\"dataframe\">\n",
              "  <thead>\n",
              "    <tr style=\"text-align: right;\">\n",
              "      <th></th>\n",
              "      <th>Date</th>\n",
              "      <th>Time</th>\n",
              "      <th>CO(GT)</th>\n",
              "      <th>PT08.S1(CO)</th>\n",
              "      <th>NMHC(GT)</th>\n",
              "      <th>C6H6(GT)</th>\n",
              "      <th>PT08.S2(NMHC)</th>\n",
              "      <th>NOx(GT)</th>\n",
              "      <th>PT08.S3(NOx)</th>\n",
              "      <th>NO2(GT)</th>\n",
              "      <th>PT08.S4(NO2)</th>\n",
              "      <th>PT08.S5(O3)</th>\n",
              "      <th>T</th>\n",
              "      <th>RH</th>\n",
              "      <th>AH</th>\n",
              "    </tr>\n",
              "  </thead>\n",
              "  <tbody>\n",
              "    <tr>\n",
              "      <th>0</th>\n",
              "      <td>10/03/2004</td>\n",
              "      <td>18.00.00</td>\n",
              "      <td>2,6</td>\n",
              "      <td>1360.0</td>\n",
              "      <td>150.0</td>\n",
              "      <td>11,9</td>\n",
              "      <td>1046.0</td>\n",
              "      <td>166.0</td>\n",
              "      <td>1056.0</td>\n",
              "      <td>113.0</td>\n",
              "      <td>1692.0</td>\n",
              "      <td>1268.0</td>\n",
              "      <td>13,6</td>\n",
              "      <td>48,9</td>\n",
              "      <td>0,7578</td>\n",
              "    </tr>\n",
              "    <tr>\n",
              "      <th>1</th>\n",
              "      <td>10/03/2004</td>\n",
              "      <td>19.00.00</td>\n",
              "      <td>2</td>\n",
              "      <td>1292.0</td>\n",
              "      <td>112.0</td>\n",
              "      <td>9,4</td>\n",
              "      <td>955.0</td>\n",
              "      <td>103.0</td>\n",
              "      <td>1174.0</td>\n",
              "      <td>92.0</td>\n",
              "      <td>1559.0</td>\n",
              "      <td>972.0</td>\n",
              "      <td>13,3</td>\n",
              "      <td>47,7</td>\n",
              "      <td>0,7255</td>\n",
              "    </tr>\n",
              "    <tr>\n",
              "      <th>2</th>\n",
              "      <td>10/03/2004</td>\n",
              "      <td>20.00.00</td>\n",
              "      <td>2,2</td>\n",
              "      <td>1402.0</td>\n",
              "      <td>88.0</td>\n",
              "      <td>9,0</td>\n",
              "      <td>939.0</td>\n",
              "      <td>131.0</td>\n",
              "      <td>1140.0</td>\n",
              "      <td>114.0</td>\n",
              "      <td>1555.0</td>\n",
              "      <td>1074.0</td>\n",
              "      <td>11,9</td>\n",
              "      <td>54,0</td>\n",
              "      <td>0,7502</td>\n",
              "    </tr>\n",
              "    <tr>\n",
              "      <th>3</th>\n",
              "      <td>10/03/2004</td>\n",
              "      <td>21.00.00</td>\n",
              "      <td>2,2</td>\n",
              "      <td>1376.0</td>\n",
              "      <td>80.0</td>\n",
              "      <td>9,2</td>\n",
              "      <td>948.0</td>\n",
              "      <td>172.0</td>\n",
              "      <td>1092.0</td>\n",
              "      <td>122.0</td>\n",
              "      <td>1584.0</td>\n",
              "      <td>1203.0</td>\n",
              "      <td>11,0</td>\n",
              "      <td>60,0</td>\n",
              "      <td>0,7867</td>\n",
              "    </tr>\n",
              "    <tr>\n",
              "      <th>4</th>\n",
              "      <td>10/03/2004</td>\n",
              "      <td>22.00.00</td>\n",
              "      <td>1,6</td>\n",
              "      <td>1272.0</td>\n",
              "      <td>51.0</td>\n",
              "      <td>6,5</td>\n",
              "      <td>836.0</td>\n",
              "      <td>131.0</td>\n",
              "      <td>1205.0</td>\n",
              "      <td>116.0</td>\n",
              "      <td>1490.0</td>\n",
              "      <td>1110.0</td>\n",
              "      <td>11,2</td>\n",
              "      <td>59,6</td>\n",
              "      <td>0,7888</td>\n",
              "    </tr>\n",
              "  </tbody>\n",
              "</table>\n",
              "</div>"
            ],
            "text/plain": [
              "         Date      Time CO(GT)  PT08.S1(CO)  ...  PT08.S5(O3)     T    RH      AH\n",
              "0  10/03/2004  18.00.00    2,6       1360.0  ...       1268.0  13,6  48,9  0,7578\n",
              "1  10/03/2004  19.00.00      2       1292.0  ...        972.0  13,3  47,7  0,7255\n",
              "2  10/03/2004  20.00.00    2,2       1402.0  ...       1074.0  11,9  54,0  0,7502\n",
              "3  10/03/2004  21.00.00    2,2       1376.0  ...       1203.0  11,0  60,0  0,7867\n",
              "4  10/03/2004  22.00.00    1,6       1272.0  ...       1110.0  11,2  59,6  0,7888\n",
              "\n",
              "[5 rows x 15 columns]"
            ]
          },
          "metadata": {},
          "execution_count": 15
        }
      ]
    },
    {
      "cell_type": "markdown",
      "metadata": {
        "id": "y0UlL7MdGWW4"
      },
      "source": [
        "Let's add the `dt_series` Pandas series to the DataFrame at `index = 0`. Also, let's label it as a `DateTime` column."
      ]
    },
    {
      "cell_type": "code",
      "metadata": {
        "id": "fet1jQCAA1_P"
      },
      "source": [
        "# S7.3: Remove the Date & Time columns from the DataFrame and insert the 'dt_series' in it.\n",
        "df = df.drop(columns=['Date', 'Time'], axis = 1)"
      ],
      "execution_count": null,
      "outputs": []
    },
    {
      "cell_type": "code",
      "metadata": {
        "colab": {
          "base_uri": "https://localhost:8080/",
          "height": 323
        },
        "id": "o--wXJd7i-hj",
        "outputId": "24c49583-f8af-4aa2-fcf6-5c3b208e2737"
      },
      "source": [
        "df.insert(loc = 0, column='DateTime', value = dt_series)\n"
      ],
      "execution_count": null,
      "outputs": [
        {
          "output_type": "error",
          "ename": "ValueError",
          "evalue": "ignored",
          "traceback": [
            "\u001b[0;31m---------------------------------------------------------------------------\u001b[0m",
            "\u001b[0;31mValueError\u001b[0m                                Traceback (most recent call last)",
            "\u001b[0;32m<ipython-input-18-63a393b325e5>\u001b[0m in \u001b[0;36m<module>\u001b[0;34m()\u001b[0m\n\u001b[0;32m----> 1\u001b[0;31m \u001b[0mdf\u001b[0m\u001b[0;34m.\u001b[0m\u001b[0minsert\u001b[0m\u001b[0;34m(\u001b[0m\u001b[0mloc\u001b[0m \u001b[0;34m=\u001b[0m \u001b[0;36m0\u001b[0m\u001b[0;34m,\u001b[0m \u001b[0mcolumn\u001b[0m\u001b[0;34m=\u001b[0m\u001b[0;34m'DateTime'\u001b[0m\u001b[0;34m,\u001b[0m \u001b[0mvalue\u001b[0m \u001b[0;34m=\u001b[0m \u001b[0mdt_series\u001b[0m\u001b[0;34m)\u001b[0m\u001b[0;34m\u001b[0m\u001b[0;34m\u001b[0m\u001b[0m\n\u001b[0m\u001b[1;32m      2\u001b[0m \u001b[0mdf\u001b[0m\u001b[0;34m\u001b[0m\u001b[0;34m\u001b[0m\u001b[0m\n",
            "\u001b[0;32m/usr/local/lib/python3.7/dist-packages/pandas/core/frame.py\u001b[0m in \u001b[0;36minsert\u001b[0;34m(self, loc, column, value, allow_duplicates)\u001b[0m\n\u001b[1;32m   3626\u001b[0m         \u001b[0mself\u001b[0m\u001b[0;34m.\u001b[0m\u001b[0m_ensure_valid_index\u001b[0m\u001b[0;34m(\u001b[0m\u001b[0mvalue\u001b[0m\u001b[0;34m)\u001b[0m\u001b[0;34m\u001b[0m\u001b[0;34m\u001b[0m\u001b[0m\n\u001b[1;32m   3627\u001b[0m         \u001b[0mvalue\u001b[0m \u001b[0;34m=\u001b[0m \u001b[0mself\u001b[0m\u001b[0;34m.\u001b[0m\u001b[0m_sanitize_column\u001b[0m\u001b[0;34m(\u001b[0m\u001b[0mcolumn\u001b[0m\u001b[0;34m,\u001b[0m \u001b[0mvalue\u001b[0m\u001b[0;34m,\u001b[0m \u001b[0mbroadcast\u001b[0m\u001b[0;34m=\u001b[0m\u001b[0;32mFalse\u001b[0m\u001b[0;34m)\u001b[0m\u001b[0;34m\u001b[0m\u001b[0;34m\u001b[0m\u001b[0m\n\u001b[0;32m-> 3628\u001b[0;31m         \u001b[0mself\u001b[0m\u001b[0;34m.\u001b[0m\u001b[0m_mgr\u001b[0m\u001b[0;34m.\u001b[0m\u001b[0minsert\u001b[0m\u001b[0;34m(\u001b[0m\u001b[0mloc\u001b[0m\u001b[0;34m,\u001b[0m \u001b[0mcolumn\u001b[0m\u001b[0;34m,\u001b[0m \u001b[0mvalue\u001b[0m\u001b[0;34m,\u001b[0m \u001b[0mallow_duplicates\u001b[0m\u001b[0;34m=\u001b[0m\u001b[0mallow_duplicates\u001b[0m\u001b[0;34m)\u001b[0m\u001b[0;34m\u001b[0m\u001b[0;34m\u001b[0m\u001b[0m\n\u001b[0m\u001b[1;32m   3629\u001b[0m \u001b[0;34m\u001b[0m\u001b[0m\n\u001b[1;32m   3630\u001b[0m     \u001b[0;32mdef\u001b[0m \u001b[0massign\u001b[0m\u001b[0;34m(\u001b[0m\u001b[0mself\u001b[0m\u001b[0;34m,\u001b[0m \u001b[0;34m**\u001b[0m\u001b[0mkwargs\u001b[0m\u001b[0;34m)\u001b[0m \u001b[0;34m->\u001b[0m \u001b[0;34m\"DataFrame\"\u001b[0m\u001b[0;34m:\u001b[0m\u001b[0;34m\u001b[0m\u001b[0;34m\u001b[0m\u001b[0m\n",
            "\u001b[0;32m/usr/local/lib/python3.7/dist-packages/pandas/core/internals/managers.py\u001b[0m in \u001b[0;36minsert\u001b[0;34m(self, loc, item, value, allow_duplicates)\u001b[0m\n\u001b[1;32m   1184\u001b[0m         \u001b[0;32mif\u001b[0m \u001b[0;32mnot\u001b[0m \u001b[0mallow_duplicates\u001b[0m \u001b[0;32mand\u001b[0m \u001b[0mitem\u001b[0m \u001b[0;32min\u001b[0m \u001b[0mself\u001b[0m\u001b[0;34m.\u001b[0m\u001b[0mitems\u001b[0m\u001b[0;34m:\u001b[0m\u001b[0;34m\u001b[0m\u001b[0;34m\u001b[0m\u001b[0m\n\u001b[1;32m   1185\u001b[0m             \u001b[0;31m# Should this be a different kind of error??\u001b[0m\u001b[0;34m\u001b[0m\u001b[0;34m\u001b[0m\u001b[0;34m\u001b[0m\u001b[0m\n\u001b[0;32m-> 1186\u001b[0;31m             \u001b[0;32mraise\u001b[0m \u001b[0mValueError\u001b[0m\u001b[0;34m(\u001b[0m\u001b[0;34mf\"cannot insert {item}, already exists\"\u001b[0m\u001b[0;34m)\u001b[0m\u001b[0;34m\u001b[0m\u001b[0;34m\u001b[0m\u001b[0m\n\u001b[0m\u001b[1;32m   1187\u001b[0m \u001b[0;34m\u001b[0m\u001b[0m\n\u001b[1;32m   1188\u001b[0m         \u001b[0;32mif\u001b[0m \u001b[0;32mnot\u001b[0m \u001b[0misinstance\u001b[0m\u001b[0;34m(\u001b[0m\u001b[0mloc\u001b[0m\u001b[0;34m,\u001b[0m \u001b[0mint\u001b[0m\u001b[0;34m)\u001b[0m\u001b[0;34m:\u001b[0m\u001b[0;34m\u001b[0m\u001b[0;34m\u001b[0m\u001b[0m\n",
            "\u001b[0;31mValueError\u001b[0m: cannot insert DateTime, already exists"
          ]
        }
      ]
    },
    {
      "cell_type": "code",
      "metadata": {
        "colab": {
          "base_uri": "https://localhost:8080/",
          "height": 419
        },
        "id": "aRHGEoKVjQrc",
        "outputId": "a1218dbd-cd6d-41e6-bce2-310b93d10dc0"
      },
      "source": [
        "df"
      ],
      "execution_count": null,
      "outputs": [
        {
          "output_type": "execute_result",
          "data": {
            "text/html": [
              "<div>\n",
              "<style scoped>\n",
              "    .dataframe tbody tr th:only-of-type {\n",
              "        vertical-align: middle;\n",
              "    }\n",
              "\n",
              "    .dataframe tbody tr th {\n",
              "        vertical-align: top;\n",
              "    }\n",
              "\n",
              "    .dataframe thead th {\n",
              "        text-align: right;\n",
              "    }\n",
              "</style>\n",
              "<table border=\"1\" class=\"dataframe\">\n",
              "  <thead>\n",
              "    <tr style=\"text-align: right;\">\n",
              "      <th></th>\n",
              "      <th>DateTime</th>\n",
              "      <th>CO(GT)</th>\n",
              "      <th>PT08.S1(CO)</th>\n",
              "      <th>NMHC(GT)</th>\n",
              "      <th>C6H6(GT)</th>\n",
              "      <th>PT08.S2(NMHC)</th>\n",
              "      <th>NOx(GT)</th>\n",
              "      <th>PT08.S3(NOx)</th>\n",
              "      <th>NO2(GT)</th>\n",
              "      <th>PT08.S4(NO2)</th>\n",
              "      <th>PT08.S5(O3)</th>\n",
              "      <th>T</th>\n",
              "      <th>RH</th>\n",
              "      <th>AH</th>\n",
              "    </tr>\n",
              "  </thead>\n",
              "  <tbody>\n",
              "    <tr>\n",
              "      <th>0</th>\n",
              "      <td>2004-03-10 18:00:00</td>\n",
              "      <td>2,6</td>\n",
              "      <td>1360.0</td>\n",
              "      <td>150.0</td>\n",
              "      <td>11,9</td>\n",
              "      <td>1046.0</td>\n",
              "      <td>166.0</td>\n",
              "      <td>1056.0</td>\n",
              "      <td>113.0</td>\n",
              "      <td>1692.0</td>\n",
              "      <td>1268.0</td>\n",
              "      <td>13,6</td>\n",
              "      <td>48,9</td>\n",
              "      <td>0,7578</td>\n",
              "    </tr>\n",
              "    <tr>\n",
              "      <th>1</th>\n",
              "      <td>2004-03-10 19:00:00</td>\n",
              "      <td>2</td>\n",
              "      <td>1292.0</td>\n",
              "      <td>112.0</td>\n",
              "      <td>9,4</td>\n",
              "      <td>955.0</td>\n",
              "      <td>103.0</td>\n",
              "      <td>1174.0</td>\n",
              "      <td>92.0</td>\n",
              "      <td>1559.0</td>\n",
              "      <td>972.0</td>\n",
              "      <td>13,3</td>\n",
              "      <td>47,7</td>\n",
              "      <td>0,7255</td>\n",
              "    </tr>\n",
              "    <tr>\n",
              "      <th>2</th>\n",
              "      <td>2004-03-10 20:00:00</td>\n",
              "      <td>2,2</td>\n",
              "      <td>1402.0</td>\n",
              "      <td>88.0</td>\n",
              "      <td>9,0</td>\n",
              "      <td>939.0</td>\n",
              "      <td>131.0</td>\n",
              "      <td>1140.0</td>\n",
              "      <td>114.0</td>\n",
              "      <td>1555.0</td>\n",
              "      <td>1074.0</td>\n",
              "      <td>11,9</td>\n",
              "      <td>54,0</td>\n",
              "      <td>0,7502</td>\n",
              "    </tr>\n",
              "    <tr>\n",
              "      <th>3</th>\n",
              "      <td>2004-03-10 21:00:00</td>\n",
              "      <td>2,2</td>\n",
              "      <td>1376.0</td>\n",
              "      <td>80.0</td>\n",
              "      <td>9,2</td>\n",
              "      <td>948.0</td>\n",
              "      <td>172.0</td>\n",
              "      <td>1092.0</td>\n",
              "      <td>122.0</td>\n",
              "      <td>1584.0</td>\n",
              "      <td>1203.0</td>\n",
              "      <td>11,0</td>\n",
              "      <td>60,0</td>\n",
              "      <td>0,7867</td>\n",
              "    </tr>\n",
              "    <tr>\n",
              "      <th>4</th>\n",
              "      <td>2004-03-10 22:00:00</td>\n",
              "      <td>1,6</td>\n",
              "      <td>1272.0</td>\n",
              "      <td>51.0</td>\n",
              "      <td>6,5</td>\n",
              "      <td>836.0</td>\n",
              "      <td>131.0</td>\n",
              "      <td>1205.0</td>\n",
              "      <td>116.0</td>\n",
              "      <td>1490.0</td>\n",
              "      <td>1110.0</td>\n",
              "      <td>11,2</td>\n",
              "      <td>59,6</td>\n",
              "      <td>0,7888</td>\n",
              "    </tr>\n",
              "    <tr>\n",
              "      <th>...</th>\n",
              "      <td>...</td>\n",
              "      <td>...</td>\n",
              "      <td>...</td>\n",
              "      <td>...</td>\n",
              "      <td>...</td>\n",
              "      <td>...</td>\n",
              "      <td>...</td>\n",
              "      <td>...</td>\n",
              "      <td>...</td>\n",
              "      <td>...</td>\n",
              "      <td>...</td>\n",
              "      <td>...</td>\n",
              "      <td>...</td>\n",
              "      <td>...</td>\n",
              "    </tr>\n",
              "    <tr>\n",
              "      <th>9352</th>\n",
              "      <td>2005-04-04 10:00:00</td>\n",
              "      <td>3,1</td>\n",
              "      <td>1314.0</td>\n",
              "      <td>-200.0</td>\n",
              "      <td>13,5</td>\n",
              "      <td>1101.0</td>\n",
              "      <td>472.0</td>\n",
              "      <td>539.0</td>\n",
              "      <td>190.0</td>\n",
              "      <td>1374.0</td>\n",
              "      <td>1729.0</td>\n",
              "      <td>21,9</td>\n",
              "      <td>29,3</td>\n",
              "      <td>0,7568</td>\n",
              "    </tr>\n",
              "    <tr>\n",
              "      <th>9353</th>\n",
              "      <td>2005-04-04 11:00:00</td>\n",
              "      <td>2,4</td>\n",
              "      <td>1163.0</td>\n",
              "      <td>-200.0</td>\n",
              "      <td>11,4</td>\n",
              "      <td>1027.0</td>\n",
              "      <td>353.0</td>\n",
              "      <td>604.0</td>\n",
              "      <td>179.0</td>\n",
              "      <td>1264.0</td>\n",
              "      <td>1269.0</td>\n",
              "      <td>24,3</td>\n",
              "      <td>23,7</td>\n",
              "      <td>0,7119</td>\n",
              "    </tr>\n",
              "    <tr>\n",
              "      <th>9354</th>\n",
              "      <td>2005-04-04 12:00:00</td>\n",
              "      <td>2,4</td>\n",
              "      <td>1142.0</td>\n",
              "      <td>-200.0</td>\n",
              "      <td>12,4</td>\n",
              "      <td>1063.0</td>\n",
              "      <td>293.0</td>\n",
              "      <td>603.0</td>\n",
              "      <td>175.0</td>\n",
              "      <td>1241.0</td>\n",
              "      <td>1092.0</td>\n",
              "      <td>26,9</td>\n",
              "      <td>18,3</td>\n",
              "      <td>0,6406</td>\n",
              "    </tr>\n",
              "    <tr>\n",
              "      <th>9355</th>\n",
              "      <td>2005-04-04 13:00:00</td>\n",
              "      <td>2,1</td>\n",
              "      <td>1003.0</td>\n",
              "      <td>-200.0</td>\n",
              "      <td>9,5</td>\n",
              "      <td>961.0</td>\n",
              "      <td>235.0</td>\n",
              "      <td>702.0</td>\n",
              "      <td>156.0</td>\n",
              "      <td>1041.0</td>\n",
              "      <td>770.0</td>\n",
              "      <td>28,3</td>\n",
              "      <td>13,5</td>\n",
              "      <td>0,5139</td>\n",
              "    </tr>\n",
              "    <tr>\n",
              "      <th>9356</th>\n",
              "      <td>2005-04-04 14:00:00</td>\n",
              "      <td>2,2</td>\n",
              "      <td>1071.0</td>\n",
              "      <td>-200.0</td>\n",
              "      <td>11,9</td>\n",
              "      <td>1047.0</td>\n",
              "      <td>265.0</td>\n",
              "      <td>654.0</td>\n",
              "      <td>168.0</td>\n",
              "      <td>1129.0</td>\n",
              "      <td>816.0</td>\n",
              "      <td>28,5</td>\n",
              "      <td>13,1</td>\n",
              "      <td>0,5028</td>\n",
              "    </tr>\n",
              "  </tbody>\n",
              "</table>\n",
              "<p>9357 rows × 14 columns</p>\n",
              "</div>"
            ],
            "text/plain": [
              "                DateTime CO(GT)  PT08.S1(CO)  ...     T    RH      AH\n",
              "0    2004-03-10 18:00:00    2,6       1360.0  ...  13,6  48,9  0,7578\n",
              "1    2004-03-10 19:00:00      2       1292.0  ...  13,3  47,7  0,7255\n",
              "2    2004-03-10 20:00:00    2,2       1402.0  ...  11,9  54,0  0,7502\n",
              "3    2004-03-10 21:00:00    2,2       1376.0  ...  11,0  60,0  0,7867\n",
              "4    2004-03-10 22:00:00    1,6       1272.0  ...  11,2  59,6  0,7888\n",
              "...                  ...    ...          ...  ...   ...   ...     ...\n",
              "9352 2005-04-04 10:00:00    3,1       1314.0  ...  21,9  29,3  0,7568\n",
              "9353 2005-04-04 11:00:00    2,4       1163.0  ...  24,3  23,7  0,7119\n",
              "9354 2005-04-04 12:00:00    2,4       1142.0  ...  26,9  18,3  0,6406\n",
              "9355 2005-04-04 13:00:00    2,1       1003.0  ...  28,3  13,5  0,5139\n",
              "9356 2005-04-04 14:00:00    2,2       1071.0  ...  28,5  13,1  0,5028\n",
              "\n",
              "[9357 rows x 14 columns]"
            ]
          },
          "metadata": {},
          "execution_count": 21
        }
      ]
    },
    {
      "cell_type": "code",
      "metadata": {
        "id": "XQiiv3yEA4fH"
      },
      "source": [
        "# S7.4: Display the first five rows of the DataFrame after removing the 'Date' 7 'Time' columns and adding the 'DateTime' column.\n"
      ],
      "execution_count": null,
      "outputs": []
    },
    {
      "cell_type": "markdown",
      "metadata": {
        "id": "rzvvqIcLBa8K"
      },
      "source": [
        "---"
      ]
    },
    {
      "cell_type": "markdown",
      "metadata": {
        "id": "8g7P6OtxA-yS"
      },
      "source": [
        "#### Activity 8: Extract Year, Month, Day & Weekday Values^\n",
        "\n",
        "Let's add four more columns to the DataFrame. The should contain the year, month, day and day-name values for each observation on the air pollutants, temperature, relative humidity and absolute humidity.\n",
        "\n",
        "For this you can apply the following attributes/functions:\n",
        "\n",
        "- `series_name.dt.year` to get a Pandas series containing the year values as integers.\n",
        "\n",
        "- `series_name.dt.month` to get a Pandas series containing the month values as integers.\n",
        "\n",
        "- `series_name.dt.day` to get a Pandas series containing the day values as integers.\n",
        "\n",
        "- `series_name.dt.day_name()` to get a Pandas series containing the days of a week, i.e., Monday, Tuesday, Wednesday etc.\n"
      ]
    },
    {
      "cell_type": "code",
      "metadata": {
        "id": "Ipl6fbUGBBS0"
      },
      "source": [
        "# S8.1: Get the Pandas series containing the year values as integers.\n",
        "year = dt_series.dt.year"
      ],
      "execution_count": null,
      "outputs": []
    },
    {
      "cell_type": "code",
      "metadata": {
        "id": "FVRFFeeHBFPu"
      },
      "source": [
        "# S8.2: Get the Pandas series containing the month values as integers.\n",
        "month = dt_series.dt.month"
      ],
      "execution_count": null,
      "outputs": []
    },
    {
      "cell_type": "code",
      "metadata": {
        "id": "hMCr-CchBI0o"
      },
      "source": [
        "# S8.3: Get the Pandas series containing the day values as integers.\n",
        "day = dt_series.dt.day"
      ],
      "execution_count": null,
      "outputs": []
    },
    {
      "cell_type": "code",
      "metadata": {
        "id": "PKHnJC1BBNlW"
      },
      "source": [
        "# S8.4: Get the Pandas series containing the days of a week, i.e., Monday, Tuesday, Wednesday etc.\n",
        "day_name = dt_series.dt.day_name()"
      ],
      "execution_count": null,
      "outputs": []
    },
    {
      "cell_type": "markdown",
      "metadata": {
        "id": "vG9HS9RUKO8p"
      },
      "source": [
        "We can add a column to a DataFrame by following the syntax given below.\n",
        "\n",
        "**Syntax:** `df_name['column_name'] = pandas_series`\n",
        "\n",
        "where `df_name` is the Pandas DataFrame in which the `pandas_series` to added as a column with the `column_name` as the desired name for the column.\n",
        "\n",
        "**Note:** The indices of the items contained in the `pandas_series` must be the same as the indices of the `df_name` DataFrame."
      ]
    },
    {
      "cell_type": "code",
      "metadata": {
        "id": "9d4hzaSqBPTM"
      },
      "source": [
        "# S8.5: Add the 'Year', 'Month', 'Day' and 'Day Name' columns to the DataFrame.\n",
        "df['Year'] = year\n",
        "df['Month'] = month\n",
        "df['Day'] = day\n",
        "df['Day Name'] = day_name"
      ],
      "execution_count": null,
      "outputs": []
    },
    {
      "cell_type": "markdown",
      "metadata": {
        "id": "FSHNH--OLGKK"
      },
      "source": [
        "Let's display the first five rows of the DataFrame after adding the new columns."
      ]
    },
    {
      "cell_type": "code",
      "metadata": {
        "id": "ryRbNUaGBREg",
        "colab": {
          "base_uri": "https://localhost:8080/",
          "height": 394
        },
        "outputId": "dcdc7dc5-f794-404b-d06c-9bd043793752"
      },
      "source": [
        "# S8.6: Display the first five rows of the DataFrame after adding the new columns.\n",
        "df.head()"
      ],
      "execution_count": null,
      "outputs": [
        {
          "output_type": "execute_result",
          "data": {
            "text/html": [
              "<div>\n",
              "<style scoped>\n",
              "    .dataframe tbody tr th:only-of-type {\n",
              "        vertical-align: middle;\n",
              "    }\n",
              "\n",
              "    .dataframe tbody tr th {\n",
              "        vertical-align: top;\n",
              "    }\n",
              "\n",
              "    .dataframe thead th {\n",
              "        text-align: right;\n",
              "    }\n",
              "</style>\n",
              "<table border=\"1\" class=\"dataframe\">\n",
              "  <thead>\n",
              "    <tr style=\"text-align: right;\">\n",
              "      <th></th>\n",
              "      <th>DateTime</th>\n",
              "      <th>CO(GT)</th>\n",
              "      <th>PT08.S1(CO)</th>\n",
              "      <th>NMHC(GT)</th>\n",
              "      <th>C6H6(GT)</th>\n",
              "      <th>PT08.S2(NMHC)</th>\n",
              "      <th>NOx(GT)</th>\n",
              "      <th>PT08.S3(NOx)</th>\n",
              "      <th>NO2(GT)</th>\n",
              "      <th>PT08.S4(NO2)</th>\n",
              "      <th>PT08.S5(O3)</th>\n",
              "      <th>T</th>\n",
              "      <th>RH</th>\n",
              "      <th>AH</th>\n",
              "      <th>Year</th>\n",
              "      <th>Month</th>\n",
              "      <th>Day</th>\n",
              "      <th>Day Name</th>\n",
              "    </tr>\n",
              "  </thead>\n",
              "  <tbody>\n",
              "    <tr>\n",
              "      <th>0</th>\n",
              "      <td>2004-03-10 18:00:00</td>\n",
              "      <td>2,6</td>\n",
              "      <td>1360.0</td>\n",
              "      <td>150.0</td>\n",
              "      <td>11,9</td>\n",
              "      <td>1046.0</td>\n",
              "      <td>166.0</td>\n",
              "      <td>1056.0</td>\n",
              "      <td>113.0</td>\n",
              "      <td>1692.0</td>\n",
              "      <td>1268.0</td>\n",
              "      <td>13,6</td>\n",
              "      <td>48,9</td>\n",
              "      <td>0,7578</td>\n",
              "      <td>2004</td>\n",
              "      <td>3</td>\n",
              "      <td>10</td>\n",
              "      <td>Wednesday</td>\n",
              "    </tr>\n",
              "    <tr>\n",
              "      <th>1</th>\n",
              "      <td>2004-03-10 19:00:00</td>\n",
              "      <td>2</td>\n",
              "      <td>1292.0</td>\n",
              "      <td>112.0</td>\n",
              "      <td>9,4</td>\n",
              "      <td>955.0</td>\n",
              "      <td>103.0</td>\n",
              "      <td>1174.0</td>\n",
              "      <td>92.0</td>\n",
              "      <td>1559.0</td>\n",
              "      <td>972.0</td>\n",
              "      <td>13,3</td>\n",
              "      <td>47,7</td>\n",
              "      <td>0,7255</td>\n",
              "      <td>2004</td>\n",
              "      <td>3</td>\n",
              "      <td>10</td>\n",
              "      <td>Wednesday</td>\n",
              "    </tr>\n",
              "    <tr>\n",
              "      <th>2</th>\n",
              "      <td>2004-03-10 20:00:00</td>\n",
              "      <td>2,2</td>\n",
              "      <td>1402.0</td>\n",
              "      <td>88.0</td>\n",
              "      <td>9,0</td>\n",
              "      <td>939.0</td>\n",
              "      <td>131.0</td>\n",
              "      <td>1140.0</td>\n",
              "      <td>114.0</td>\n",
              "      <td>1555.0</td>\n",
              "      <td>1074.0</td>\n",
              "      <td>11,9</td>\n",
              "      <td>54,0</td>\n",
              "      <td>0,7502</td>\n",
              "      <td>2004</td>\n",
              "      <td>3</td>\n",
              "      <td>10</td>\n",
              "      <td>Wednesday</td>\n",
              "    </tr>\n",
              "    <tr>\n",
              "      <th>3</th>\n",
              "      <td>2004-03-10 21:00:00</td>\n",
              "      <td>2,2</td>\n",
              "      <td>1376.0</td>\n",
              "      <td>80.0</td>\n",
              "      <td>9,2</td>\n",
              "      <td>948.0</td>\n",
              "      <td>172.0</td>\n",
              "      <td>1092.0</td>\n",
              "      <td>122.0</td>\n",
              "      <td>1584.0</td>\n",
              "      <td>1203.0</td>\n",
              "      <td>11,0</td>\n",
              "      <td>60,0</td>\n",
              "      <td>0,7867</td>\n",
              "      <td>2004</td>\n",
              "      <td>3</td>\n",
              "      <td>10</td>\n",
              "      <td>Wednesday</td>\n",
              "    </tr>\n",
              "    <tr>\n",
              "      <th>4</th>\n",
              "      <td>2004-03-10 22:00:00</td>\n",
              "      <td>1,6</td>\n",
              "      <td>1272.0</td>\n",
              "      <td>51.0</td>\n",
              "      <td>6,5</td>\n",
              "      <td>836.0</td>\n",
              "      <td>131.0</td>\n",
              "      <td>1205.0</td>\n",
              "      <td>116.0</td>\n",
              "      <td>1490.0</td>\n",
              "      <td>1110.0</td>\n",
              "      <td>11,2</td>\n",
              "      <td>59,6</td>\n",
              "      <td>0,7888</td>\n",
              "      <td>2004</td>\n",
              "      <td>3</td>\n",
              "      <td>10</td>\n",
              "      <td>Wednesday</td>\n",
              "    </tr>\n",
              "  </tbody>\n",
              "</table>\n",
              "</div>"
            ],
            "text/plain": [
              "             DateTime CO(GT)  PT08.S1(CO)  ...  Month Day   Day Name\n",
              "0 2004-03-10 18:00:00    2,6       1360.0  ...      3  10  Wednesday\n",
              "1 2004-03-10 19:00:00      2       1292.0  ...      3  10  Wednesday\n",
              "2 2004-03-10 20:00:00    2,2       1402.0  ...      3  10  Wednesday\n",
              "3 2004-03-10 21:00:00    2,2       1376.0  ...      3  10  Wednesday\n",
              "4 2004-03-10 22:00:00    1,6       1272.0  ...      3  10  Wednesday\n",
              "\n",
              "[5 rows x 18 columns]"
            ]
          },
          "metadata": {},
          "execution_count": 30
        }
      ]
    },
    {
      "cell_type": "markdown",
      "metadata": {
        "id": "AE8D-dJYLWrx"
      },
      "source": [
        "Let's sort the DataFrame by the `DateTime` values in the ascending order by using the `sort_values()` function. Inside the function, you need to pass the `by = 'DateTime'` parameter to sort the DataFrame by the `DateTime` values.\n",
        "\n",
        "**Note:** By default, the `sort_values` function sorts a DataFrame in the ascending order. To sort it in the descending order, pass `ascending=False` as the second parameter inside the `sort_values` function."
      ]
    },
    {
      "cell_type": "code",
      "metadata": {
        "id": "kQ9MNHYQBWAg"
      },
      "source": [
        "# S8.7: Sort the DataFrame by the 'DateTime' values in the ascending order. Also, display the first 10 rows of the DataFrame.\n",
        "df = df.sort_values(by = 'DateTime')\n",
        "df"
      ],
      "execution_count": null,
      "outputs": []
    },
    {
      "cell_type": "markdown",
      "metadata": {
        "id": "smxV95UFMbQ7"
      },
      "source": [
        "Let's pause here. In the next class, we will continue the same project with more data cleaning exercises because a few of the columns contain decimal values separated by a comma and all the columns also contain `-200`; a garbage value."
      ]
    },
    {
      "cell_type": "markdown",
      "metadata": {
        "id": "RmyrvdwgILU9"
      },
      "source": [
        "---"
      ]
    }
  ]
}